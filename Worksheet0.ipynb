{
  "cells": [
    {
      "cell_type": "markdown",
      "metadata": {
        "id": "view-in-github",
        "colab_type": "text"
      },
      "source": [
        "<a href=\"https://colab.research.google.com/github/kripaa222/Kripa/blob/master/Worksheet0.ipynb\" target=\"_parent\"><img src=\"https://colab.research.google.com/assets/colab-badge.svg\" alt=\"Open In Colab\"/></a>"
      ]
    },
    {
      "cell_type": "code",
      "execution_count": null,
      "metadata": {
        "colab": {
          "base_uri": "https://localhost:8080/"
        },
        "id": "qomEWvHT0hKT",
        "outputId": "05b097ec-487f-4686-84c2-1dd3c3477c84"
      },
      "outputs": [
        {
          "output_type": "stream",
          "name": "stdout",
          "text": [
            "Hello, World!\n",
            "Python version: 3.11.11 (main, Dec  4 2024, 08:55:07) [GCC 11.4.0]\n"
          ]
        }
      ],
      "source": [
        "import sys\n",
        "# Check Python version\n",
        "if sys.version_info.major == 3 and sys.version_info.minor >= 6:\n",
        "  print(\"Hello, World!\")\n",
        "  print(f\"Python version: {sys.version}\")\n",
        "else:\n",
        "  print(\"Please use Python 3.6 or higher.\")"
      ]
    },
    {
      "cell_type": "markdown",
      "source": [
        "# **Data Types in Python**\n",
        "\n",
        "*   **Mutable Data Types** : Mutable objects can be changed after they are created. This means you can modify their contents, such as adding or removing items, or changing their values without creating a new object. For example - list\n",
        "\n",
        "*   **Immutable Data Types** : Immutable objects cannot be changed once they are created. Any operation that seems to modify an immutable object will actually create a new object instead of changing the original.For example - tuple\n",
        "\n",
        "  Difference between Mutable and Immutable Data Types."
      ],
      "metadata": {
        "id": "q16UoSpX2Ccl"
      }
    },
    {
      "cell_type": "code",
      "source": [
        "# Mutable Data Type Example (List)\n",
        "my_list = [1, 2, 3]\n",
        "print(\"Original List:\", my_list)\n",
        "\n",
        "# Modifying the list (changing contents)\n",
        "my_list.append(4)\n",
        "print(\"Modified List:\", my_list)\n",
        "\n",
        "# Immutable Data Type Example (Tuple)\n",
        "my_tuple = (1, 2, 3)\n",
        "print(\"Original Tuple:\", my_tuple)\n",
        "\n",
        "# Trying to modify the tuple (will raise an error)\n",
        "# my_tuple.append(4) # Uncommenting this line will raise an AttributeError"
      ],
      "metadata": {
        "colab": {
          "base_uri": "https://localhost:8080/"
        },
        "id": "WnA4Sh262gPg",
        "outputId": "e0c034a1-fcdb-4631-a2db-ad57d223d0a9"
      },
      "execution_count": null,
      "outputs": [
        {
          "output_type": "stream",
          "name": "stdout",
          "text": [
            "Original List: [1, 2, 3]\n",
            "Modified List: [1, 2, 3, 4]\n",
            "Original Tuple: (1, 2, 3)\n"
          ]
        }
      ]
    },
    {
      "cell_type": "markdown",
      "source": [
        "# **Some Common Data Types in Python:**\n",
        "\n",
        "**Data Type : Numeric (int, float, complex)**"
      ],
      "metadata": {
        "id": "E7I7I9J92zgx"
      }
    },
    {
      "cell_type": "code",
      "source": [
        "age = 23 #int\n",
        "pi = 3.14 #float\n",
        "temperature = -5.5 #float\n",
        "\n",
        "print(\"data type of variable age = \", type(age))\n",
        "print(\"data type of variable pi = \", type(pi))\n",
        "print(\"data type of variable temperature = \", type(temperature))"
      ],
      "metadata": {
        "colab": {
          "base_uri": "https://localhost:8080/"
        },
        "id": "Iha0xl9S3GUp",
        "outputId": "52da2e6d-be31-41e5-c7a3-2a59edea3501"
      },
      "execution_count": null,
      "outputs": [
        {
          "output_type": "stream",
          "name": "stdout",
          "text": [
            "data type of variable age =  <class 'int'>\n",
            "data type of variable pi =  <class 'float'>\n",
            "data type of variable temperature =  <class 'float'>\n"
          ]
        }
      ]
    },
    {
      "cell_type": "markdown",
      "source": [
        "**Data Type : Sequence (String, List, Tuple)**\n",
        "\n",
        "String"
      ],
      "metadata": {
        "id": "TbEBS9X03OV9"
      }
    },
    {
      "cell_type": "code",
      "source": [
        "name = \"Alice\"\n",
        "greeting = \"Hello\"\n",
        "address = \"123 Main St\"\n",
        "print(\"data type of the variable name = \",type(name))\n",
        "print(\"data type of the variable greeting = \",type(greeting))\n",
        "print(\"data type of the variable address = \",type(address))\n",
        "\n",
        "# slice only one element\n",
        "print(\"The first letter of the name is:\", name[0])\n",
        "print(\"The last letter of the name is:\", name[-1])\n",
        "\n",
        "# slice a range of elements\n",
        "print(\"The second letter to the fourth of the name is:\", name[1:4])\n",
        "print(\"The first two letters of the name are:\", name[:2])\n",
        "print(\"Substring starting from the third letter is:\", name[2:])"
      ],
      "metadata": {
        "colab": {
          "base_uri": "https://localhost:8080/"
        },
        "id": "aCJNIc7p3zBe",
        "outputId": "6664ba0e-8847-42bd-ddcf-e152fec085c2"
      },
      "execution_count": null,
      "outputs": [
        {
          "output_type": "stream",
          "name": "stdout",
          "text": [
            "data type of the variable name =  <class 'str'>\n",
            "data type of the variable greeting =  <class 'str'>\n",
            "data type of the variable address =  <class 'str'>\n",
            "The first letter of the name is: A\n",
            "The last letter of the name is: e\n",
            "The second letter to the fourth of the name is: lic\n",
            "The first two letters of the name are: Al\n",
            "Substring starting from the third letter is: ice\n"
          ]
        }
      ]
    },
    {
      "cell_type": "markdown",
      "source": [
        "List"
      ],
      "metadata": {
        "id": "xVPbvs_b5iho"
      }
    },
    {
      "cell_type": "code",
      "source": [
        "list1 = [1, 2, 3, 4]\n",
        "mixed_list = [12, \"Hello\", True]\n",
        "# List is mutable\n",
        "mixed_list[0] = False\n",
        "mixed_list"
      ],
      "metadata": {
        "colab": {
          "base_uri": "https://localhost:8080/"
        },
        "id": "ZZls-UFs4Iui",
        "outputId": "a98e22ba-5b3b-40fe-e989-a2c4839ddb33"
      },
      "execution_count": null,
      "outputs": [
        {
          "output_type": "execute_result",
          "data": {
            "text/plain": [
              "[False, 'Hello', True]"
            ]
          },
          "metadata": {},
          "execution_count": 7
        }
      ]
    },
    {
      "cell_type": "markdown",
      "source": [
        "Tuple"
      ],
      "metadata": {
        "id": "HsGv2XKs5lRr"
      }
    },
    {
      "cell_type": "code",
      "source": [
        "colors = ('red', 'green', 'yellow', 'blue')\n",
        "\n",
        "print(\"First element:\", colors[0])\n",
        "print(\"Last two elements:\", colors[2:])\n",
        "print(\"Middle two elements:\", colors[1:3])\n",
        "\n",
        "#colors[0] = 'purple'\n",
        "#colors # will generate an error as tuple is immutable, meaning their values cannot be changed once they are created."
      ],
      "metadata": {
        "colab": {
          "base_uri": "https://localhost:8080/"
        },
        "id": "chdZ26444PoC",
        "outputId": "c128d9d2-afca-4869-96f6-df542bc9ca1f"
      },
      "execution_count": null,
      "outputs": [
        {
          "output_type": "stream",
          "name": "stdout",
          "text": [
            "First element: red\n",
            "Last two elements: ('yellow', 'blue')\n",
            "Middle two elements: ('green', 'yellow')\n"
          ]
        }
      ]
    },
    {
      "cell_type": "markdown",
      "source": [
        "**Data Type : Mapping (Dict)**"
      ],
      "metadata": {
        "id": "SOAZg2HS5XRE"
      }
    },
    {
      "cell_type": "code",
      "source": [
        "person = {'name':'John','age':30,'city':'Pittsburgh'}\n",
        "print(f\"Hello my name is {person['name']}. I am {person['age']} years old and I live at {person['city']}.\")\n",
        "print(\"All keys:\", list(person.keys()))\n",
        "print(\"All values:\", list(person.values()))"
      ],
      "metadata": {
        "colab": {
          "base_uri": "https://localhost:8080/"
        },
        "id": "8qKjGPjC5wcA",
        "outputId": "e57eb72f-ad14-4881-9788-ffe4c6630f76"
      },
      "execution_count": null,
      "outputs": [
        {
          "output_type": "stream",
          "name": "stdout",
          "text": [
            "Hello my name is John. I am 30 years old and I live at Pittsburgh.\n",
            "All keys: ['name', 'age', 'city']\n",
            "All values: ['John', 30, 'Pittsburgh']\n"
          ]
        }
      ]
    },
    {
      "cell_type": "markdown",
      "source": [
        "**Data Type : Set (Set, Frozenset)**"
      ],
      "metadata": {
        "id": "EgxP1vHt6Qqh"
      }
    },
    {
      "cell_type": "code",
      "source": [
        "unique_numbers = {1,2,3,3,3,3,4,5}\n",
        "print(unique_numbers)"
      ],
      "metadata": {
        "colab": {
          "base_uri": "https://localhost:8080/"
        },
        "id": "XJf3vQml6YXT",
        "outputId": "6e25300b-9e23-494e-de1c-47b09895e3cf"
      },
      "execution_count": null,
      "outputs": [
        {
          "output_type": "stream",
          "name": "stdout",
          "text": [
            "{1, 2, 3, 4, 5}\n"
          ]
        }
      ]
    },
    {
      "cell_type": "markdown",
      "source": [
        "**Data Type : Boolean**"
      ],
      "metadata": {
        "id": "G0PAMpAR6eE7"
      }
    },
    {
      "cell_type": "code",
      "source": [
        "is_student = True\n",
        "has_license = False\n",
        "print(\"data type of the variable is_student = \",type(is_student))\n",
        "print(\"data type of the variable has_license = \",type(has_license))"
      ],
      "metadata": {
        "colab": {
          "base_uri": "https://localhost:8080/"
        },
        "id": "yOwzmnP96g07",
        "outputId": "2bc64231-0c73-4a13-c0b9-a540bab2d9fe"
      },
      "execution_count": null,
      "outputs": [
        {
          "output_type": "stream",
          "name": "stdout",
          "text": [
            "data type of the variable is_student =  <class 'bool'>\n",
            "data type of the variable has_license =  <class 'bool'>\n"
          ]
        }
      ]
    },
    {
      "cell_type": "markdown",
      "source": [
        "**Data Type : Special (Nonetype)**"
      ],
      "metadata": {
        "id": "W5Av-6QW63aK"
      }
    },
    {
      "cell_type": "code",
      "source": [
        "result = None\n",
        "result"
      ],
      "metadata": {
        "id": "uNTbL0eT7Hnb"
      },
      "execution_count": null,
      "outputs": []
    },
    {
      "cell_type": "markdown",
      "source": [
        "# **Logical Statements**\n",
        "\n",
        "\n",
        "\n",
        "*   if\n",
        "*   elif\n",
        "\n",
        "*   else\n",
        "*   Comparison operators\n",
        "\n",
        "*   Logical Operators\n",
        "\n",
        "\n",
        "\n",
        "\n",
        "\n",
        "\n"
      ],
      "metadata": {
        "id": "-YUJSuk97Tik"
      }
    },
    {
      "cell_type": "markdown",
      "source": [
        "**if-else statement**"
      ],
      "metadata": {
        "id": "9is9MRVq73lc"
      }
    },
    {
      "cell_type": "code",
      "source": [
        "num = 10\n",
        "\n",
        "if num > 0:\n",
        "  print(\"Positive\")\n",
        "elif num == 0:\n",
        "  print(\"Zero\")\n",
        "else:\n",
        "  print(\"Non-positive\")"
      ],
      "metadata": {
        "colab": {
          "base_uri": "https://localhost:8080/"
        },
        "id": "HdX9yYNz75vE",
        "outputId": "aae059c2-f817-491c-8e64-a92d4c555bca"
      },
      "execution_count": null,
      "outputs": [
        {
          "output_type": "stream",
          "name": "stdout",
          "text": [
            "Positive\n"
          ]
        }
      ]
    },
    {
      "cell_type": "markdown",
      "source": [
        "**Comparison Operator**\n",
        "\n",
        "*   ==: Equal to\n",
        "*   !=: Not equal to\n",
        "\n",
        "*   <: Less than\n",
        "*   >: Greater than\n",
        "\n",
        "\n",
        "\n",
        "*   <=: Less than or equal to\n",
        "*   >=: Greater than or equal to\n",
        "\n",
        "\n",
        "\n",
        "\n",
        "\n"
      ],
      "metadata": {
        "id": "jNkaizPZ8FiA"
      }
    },
    {
      "cell_type": "code",
      "source": [
        "x = 5\n",
        "y = 10\n",
        "\n",
        "if x > 0 and y < 20:\n",
        "  print(\"Both conditions are true\")\n",
        "\n",
        "if x > 0 or y > 20:\n",
        "  print(\"At least one condition is true\")\n",
        "\n",
        "if not x == 0:\n",
        "  print(\"x is not equal to 0\")"
      ],
      "metadata": {
        "colab": {
          "base_uri": "https://localhost:8080/"
        },
        "id": "35IHw9vz8IYr",
        "outputId": "69887be4-24e9-4401-fde0-c5afa0cd7571"
      },
      "execution_count": null,
      "outputs": [
        {
          "output_type": "stream",
          "name": "stdout",
          "text": [
            "Both conditions are true\n",
            "At least one condition is true\n",
            "x is not equal to 0\n"
          ]
        }
      ]
    },
    {
      "cell_type": "markdown",
      "source": [
        "**Logical Operators**\n",
        "\n",
        "\n",
        "*   and\n",
        "\n",
        "*   or\n",
        "*   not\n",
        "\n",
        "\n"
      ],
      "metadata": {
        "id": "_ZZLnafj8_1h"
      }
    },
    {
      "cell_type": "code",
      "source": [
        "# Define two boolean variables\n",
        "a = True\n",
        "b = False\n",
        "\n",
        "# Using the ’and’ operator\n",
        "if a and b:\n",
        "  print(\"Both a and b are True\")\n",
        "else:\n",
        "  print(\"Either a or b is False\") # This will be printed\n",
        "\n",
        "# Using the ’or’ operator\n",
        "if a or b:\n",
        "  print(\"At least one of a or b is True\") # This will be printed\n",
        "else:\n",
        "  print(\"Both a and b are False\")\n",
        "\n",
        "# Using the ’not’ operator\n",
        "if not a:\n",
        "  print(\"a is False\") # This will not be printed\n",
        "else:\n",
        "  print(\"a is True\") # This will be printed"
      ],
      "metadata": {
        "colab": {
          "base_uri": "https://localhost:8080/"
        },
        "id": "zzyhQEOh9Ow1",
        "outputId": "860622b9-ea51-480e-9bbd-62692cbc332f"
      },
      "execution_count": null,
      "outputs": [
        {
          "output_type": "stream",
          "name": "stdout",
          "text": [
            "Either a or b is False\n",
            "At least one of a or b is True\n",
            "a is True\n"
          ]
        }
      ]
    },
    {
      "cell_type": "markdown",
      "source": [
        "**Loops**\n",
        "\n",
        "\n",
        "\n",
        "*   for loop\n",
        "\n",
        "*   while loop\n",
        "*   break\n",
        "\n",
        "\n",
        "*   continue\n",
        "\n"
      ],
      "metadata": {
        "id": "3V0n6Ho29ebz"
      }
    },
    {
      "cell_type": "code",
      "source": [
        "# for loop:\n",
        "fruits = [\"apple\", \"banana\",\"cherry\"]\n",
        "for fruit in fruits:\n",
        "  print(fruit)\n",
        "\n",
        "# While loop:\n",
        "count = 0\n",
        "while count < 5:\n",
        "  print(\"Count is:\", count)\n",
        "  count += 1\n",
        "\n",
        "# Break\n",
        "fruits = [\"apple\", \"banana\", \"orange\"]\n",
        "print(\"loop 1\")\n",
        "for fruit in fruits:\n",
        "  print(fruit)\n",
        "  if fruit == \"apple\":\n",
        "    break\n",
        "\n",
        "# Continiue\n",
        "print(\"loop 2\")\n",
        "for fruit in fruits:\n",
        "  if fruit == \"apple\":\n",
        "    continue\n",
        "  else:\n",
        "    print(fruit)"
      ],
      "metadata": {
        "colab": {
          "base_uri": "https://localhost:8080/"
        },
        "id": "x_rphJd09uDR",
        "outputId": "49c2b3c4-1ce1-4787-bb25-f2378bbfd56f"
      },
      "execution_count": null,
      "outputs": [
        {
          "output_type": "stream",
          "name": "stdout",
          "text": [
            "apple\n",
            "banana\n",
            "cherry\n",
            "Count is: 0\n",
            "Count is: 1\n",
            "Count is: 2\n",
            "Count is: 3\n",
            "Count is: 4\n",
            "loop 1\n",
            "apple\n",
            "loop 2\n",
            "banana\n",
            "orange\n"
          ]
        }
      ]
    },
    {
      "cell_type": "markdown",
      "source": [
        "# **Functions**\n",
        "\n",
        "Docstrings are important"
      ],
      "metadata": {
        "id": "ZPz9y9wb-llk"
      }
    },
    {
      "cell_type": "code",
      "source": [
        "def add_binary(a, b):\n",
        "  '''\n",
        "  Returns the sum of two decimal numbers in binary digits.\n",
        "  Parameters:\n",
        "  a (int): A decimal integer\n",
        "  b (int): Another decimal integer\n",
        "  Returns:\n",
        "  binary_sum (str): Binary string of the sum of a and b\n",
        "  '''\n",
        "  binary_sum = bin(a+b)[2:]\n",
        "  return binary_sum"
      ],
      "metadata": {
        "id": "uo4eUISb-qKL"
      },
      "execution_count": null,
      "outputs": []
    },
    {
      "cell_type": "markdown",
      "source": [
        "Built-in  Functions"
      ],
      "metadata": {
        "id": "grYId1QI_H99"
      }
    },
    {
      "cell_type": "code",
      "source": [
        "print(\"Hello, World!\") # Output: Hello, World!\n",
        "length = len(\"Hello\") # Output: 5\n",
        "data_type = type(42) # Output: <class ’int’>\n",
        "total = sum([1, 2, 3]) # Output: 6"
      ],
      "metadata": {
        "colab": {
          "base_uri": "https://localhost:8080/"
        },
        "id": "o0F-G-Ub_HOD",
        "outputId": "001d0e81-0f5c-4ae5-8188-64e0a07cd854"
      },
      "execution_count": null,
      "outputs": [
        {
          "output_type": "stream",
          "name": "stdout",
          "text": [
            "Hello, World!\n"
          ]
        }
      ]
    },
    {
      "cell_type": "markdown",
      "source": [
        "Built-in methods"
      ],
      "metadata": {
        "id": "VBbqaUok_RK5"
      }
    },
    {
      "cell_type": "code",
      "source": [
        "# str.upper(): Converts all characters in a string to uppercase.\n",
        "message = \"hello\".upper() # Output: \"HELLO\"\n",
        "print(message)\n",
        "\n",
        "# list.append(): Adds an element to the end of a list.\n",
        "fruits = [\"apple\", \"banana\"]\n",
        "fruits.append(\"cherry\") # Output: [\"apple\", \"banana\", \"cherry\"]\n",
        "print(fruits)\n",
        "\n",
        "# dict.get(): Returns the value associated with a key in a dictionary.\n",
        "info = {\"name\": \"Alice\", \"age\": 25}\n",
        "age = info.get(\"age\") # Output: 25\n",
        "print(age)"
      ],
      "metadata": {
        "colab": {
          "base_uri": "https://localhost:8080/"
        },
        "id": "3Sv8bOox_QHb",
        "outputId": "e1d9927e-7ce4-40a5-8165-fa5e72b1850b"
      },
      "execution_count": null,
      "outputs": [
        {
          "output_type": "stream",
          "name": "stdout",
          "text": [
            "HELLO\n",
            "['apple', 'banana', 'cherry']\n",
            "25\n"
          ]
        }
      ]
    },
    {
      "cell_type": "markdown",
      "source": [
        "User-defined Function"
      ],
      "metadata": {
        "id": "IQn6w1G3_0m1"
      }
    },
    {
      "cell_type": "code",
      "source": [
        "def temperature_converter():\n",
        "  \"\"\"\n",
        "  Converts temperature between Celsius and Fahrenheit.\n",
        "  This function prompts the user to specify the conversion type (Celsius to Fahrenheit or\n",
        "  Fahrenheit to Celsius)\n",
        "  and then asks for the temperature value. It calculates and returns the converted temperature.\n",
        "  Returns:\n",
        "  float: The converted temperature value.\n",
        "  \"\"\"\n",
        "  print(\"Choose conversion type:\")\n",
        "  print(\"1. Celsius to Fahrenheit\")\n",
        "  print(\"2. Fahrenheit to Celsius\")\n",
        "\n",
        "  # Get conversion choice from user\n",
        "  choice = input(\"Enter 1 or 2: \")\n",
        "\n",
        "  if choice == \"1\":\n",
        "    # Celsius to Fahrenheit conversion\n",
        "    celsius = float(input(\"Enter temperature in Celsius: \"))\n",
        "    fahrenheit = (celsius * 9/5) + 32\n",
        "    print(f\"{celsius}C is equal to {fahrenheit}F\")\n",
        "    return fahrenheit\n",
        "\n",
        "  elif choice == \"2\":\n",
        "    # Fahrenheit to Celsius conversion\n",
        "    fahrenheit = float(input(\"Enter temperature in Fahrenheit: \"))\n",
        "    celsius = (fahrenheit - 32) * 5/9\n",
        "    print(f\"{fahrenheit}F is equal to {celsius}C\")\n",
        "    return celsius\n",
        "\n",
        "  else:\n",
        "    print(\"Invalid choice. Please enter 1 or 2.\")\n",
        "    return None\n",
        "\n",
        "# Call the function\n",
        "temperature_converter()"
      ],
      "metadata": {
        "colab": {
          "base_uri": "https://localhost:8080/"
        },
        "id": "DGi2exnI_28s",
        "outputId": "9c081b1b-970d-46bf-be28-cd0f19b14d51"
      },
      "execution_count": null,
      "outputs": [
        {
          "output_type": "stream",
          "name": "stdout",
          "text": [
            "Choose conversion type:\n",
            "1. Celsius to Fahrenheit\n",
            "2. Fahrenheit to Celsius\n",
            "Enter 1 or 2: 1\n",
            "Enter temperature in Celsius: 23\n",
            "23.0C is equal to 73.4F\n"
          ]
        },
        {
          "output_type": "execute_result",
          "data": {
            "text/plain": [
              "73.4"
            ]
          },
          "metadata": {},
          "execution_count": 39
        }
      ]
    },
    {
      "cell_type": "markdown",
      "source": [
        "# **Global and Local Variables**\n",
        "\n",
        "Global Variable"
      ],
      "metadata": {
        "id": "dZcnk7WHAhF0"
      }
    },
    {
      "cell_type": "code",
      "source": [
        "x = 10 # Global Variable.\n",
        "\n",
        "def print_global():\n",
        "  print(x) # Accessing global variable\n",
        "\n",
        "print_global() # Output: 10"
      ],
      "metadata": {
        "colab": {
          "base_uri": "https://localhost:8080/"
        },
        "id": "lu3uatYVAm2T",
        "outputId": "4e86bdc6-a0ae-4706-df5a-2dd3c3b8a117"
      },
      "execution_count": null,
      "outputs": [
        {
          "output_type": "stream",
          "name": "stdout",
          "text": [
            "10\n"
          ]
        }
      ]
    },
    {
      "cell_type": "markdown",
      "source": [
        "Local Variable"
      ],
      "metadata": {
        "id": "lqCHUeLZAzVv"
      }
    },
    {
      "cell_type": "code",
      "source": [
        "def print_local():\n",
        "  y = 5 # Local variable\n",
        "  print(y)\n",
        "\n",
        "print_local() # Output: 5\n",
        "print(y) # This would cause an error because y is not accessible outside the function"
      ],
      "metadata": {
        "colab": {
          "base_uri": "https://localhost:8080/"
        },
        "id": "JYQW2F2rA0uY",
        "outputId": "11f29de2-1cb4-493c-c34f-2fae8741e2b3"
      },
      "execution_count": null,
      "outputs": [
        {
          "output_type": "stream",
          "name": "stdout",
          "text": [
            "5\n",
            "10\n"
          ]
        }
      ]
    },
    {
      "cell_type": "markdown",
      "metadata": {
        "id": "ASMomcnn3Mt1"
      },
      "source": [
        "# **Exercises**"
      ]
    },
    {
      "cell_type": "markdown",
      "metadata": {
        "id": "3tRC7m3o3SYE"
      },
      "source": [
        "**Exercise on Functions:**\n",
        "\n",
        "**Task 1**\n",
        "\n",
        "Create a Python program that converts between different units of measurement.\n",
        "• The program should:\n",
        "  1. Prompt the user to choose the type of conversion (e.g., length, weight, volume).\n",
        "  2. Ask the user to input the value to be converted.\n",
        "  3. Perform the conversion and display the result.\n",
        "  4. Handle potential errors, such as invalid input or unsupported conversion types.\n",
        "\n",
        "• Requirements:\n",
        "  1. Functions: Define at least one function to perform the conversion.\n",
        "  2. Error Handling: Use try-except blocks to handle invalid input (e.g., non-numeric values).\n",
        "  3. User Input: Prompt the user to select the conversion type and input the value.\n",
        "  4. Docstrings: Include a docstring in your function to describe its purpose, parameters, and\n",
        "  return value.\n",
        "\n",
        "• Conversion Options:\n",
        "  1. Length:\n",
        "  – Convert meters (m) to feet (ft).\n",
        "  – Convert feet (ft) to meters (m).\n",
        "  2. Weight:\n",
        "  – Convert kilograms (kg) to pounds (lbs).\n",
        "  – Convert pounds (lbs) to kilograms (kg).\n",
        "  3. Volume:\n",
        "  – Convert liters (L) to gallons (gal).\n",
        "  – Convert gallons (gal) to liters (L)."
      ]
    },
    {
      "cell_type": "code",
      "source": [
        "def get_choice():\n",
        "    \"\"\"This function prompts the user to choose the type of conversion they want.\n",
        "    Returns:\n",
        "    str: The choice of conversion type.\n",
        "    \"\"\"\n",
        "\n",
        "    conversion_options = {\n",
        "        \"1\": (\"m_to_ft\", \"Length: meters (m) to feet (ft)\", \"m\", \"ft\"),\n",
        "        \"2\": (\"ft_to_m\", \"Length: feet (ft) to meters (m)\", \"ft\", \"m\"),\n",
        "        \"3\": (\"kg_to_pounds\", \"Weight: kilograms (kg) to pounds (lbs)\", \"kg\", \"lbs\"),\n",
        "        \"4\": (\"pounds_to_kg\", \"Weight: pounds (lbs) to kilograms (kg)\", \"lbs\", \"kg\"),\n",
        "        \"5\": (\"L_to_gal\", \"Volume: liters (L) to gallons (gal)\", \"L\", \"gal\"),\n",
        "        \"6\": (\"gal_to_L\", \"Volume: gallons (gal) to liters (L)\", \"gal\", \"L\")\n",
        "    }\n",
        "\n",
        "    print(\"Select a conversion option:\")\n",
        "    for key, value in conversion_options.items():\n",
        "        print(f\"{key}. {value[1]}\")\n",
        "\n",
        "    choice = input(\"Enter the number of the conversion you want: \").strip()\n",
        "    return conversion_options.get(choice, None)\n",
        "\n",
        "def convert(value, conv_choice):\n",
        "    \"\"\"\n",
        "    Converts the given value based on the conversion type.\n",
        "\n",
        "    Parameters:\n",
        "    conversion_functions (dict): A dictionary containing conversion functions.\n",
        "    value (float): The value to be converted.\n",
        "    conv_choice (str): The conversion type choice\n",
        "\n",
        "    Returns:\n",
        "    float: The converted value.\n",
        "    \"\"\"\n",
        "    conversion_functions = {\n",
        "        \"m_to_ft\": lambda v: v * 3.281,\n",
        "        \"ft_to_m\": lambda v: v / 3.281,\n",
        "        \"kg_to_pounds\": lambda v: v * 2.20462,\n",
        "        \"pounds_to_kg\": lambda v: v * 0.453592,\n",
        "        \"L_to_gal\": lambda v: v * 0.264172,\n",
        "        \"gal_to_L\": lambda v: v * 3.78541\n",
        "    }\n",
        "\n",
        "    return conversion_functions.get(conv_choice, lambda v: None)(value)\n",
        "\n",
        "def main():\n",
        "    while True:\n",
        "        conversion_choice = get_choice()\n",
        "\n",
        "        if not conversion_choice:\n",
        "            print(\"Invalid choice. Please select a valid option.\")\n",
        "            continue\n",
        "\n",
        "        conv_type, desc, from_unit, to_unit = conversion_choice\n",
        "        print(f\"You have selected: {desc}\")\n",
        "\n",
        "        try:\n",
        "            value = float(input(f\"Enter the value in {from_unit}: \"))\n",
        "            converted_value = convert(value, conv_type)\n",
        "\n",
        "            if converted_value is not None:\n",
        "                print(f\"{value} {from_unit} is equal to {converted_value:.4f} {to_unit}\")\n",
        "            else:\n",
        "                print(\"Conversion error. Please try again.\")\n",
        "\n",
        "        except ValueError:\n",
        "            print(\"Invalid input. Please enter a valid number.\")\n",
        "\n",
        "        another = input(\"Do you want to perform another conversion? (yes/no): \").strip().lower()\n",
        "        if another != \"yes\":\n",
        "            print(\"End of program!\")\n",
        "            break\n",
        "\n",
        "if __name__ == \"__main__\":\n",
        "    main()\n"
      ],
      "metadata": {
        "id": "k-n8Y19FGEhf",
        "colab": {
          "base_uri": "https://localhost:8080/"
        },
        "outputId": "1e085089-1776-426f-9265-080e99eae094"
      },
      "execution_count": 1,
      "outputs": [
        {
          "output_type": "stream",
          "name": "stdout",
          "text": [
            "Select a conversion option:\n",
            "1. Length: meters (m) to feet (ft)\n",
            "2. Length: feet (ft) to meters (m)\n",
            "3. Weight: kilograms (kg) to pounds (lbs)\n",
            "4. Weight: pounds (lbs) to kilograms (kg)\n",
            "5. Volume: liters (L) to gallons (gal)\n",
            "6. Volume: gallons (gal) to liters (L)\n",
            "Enter the number of the conversion you want: 2\n",
            "You have selected: Length: feet (ft) to meters (m)\n",
            "Enter the value in ft: 4\n",
            "4.0 ft is equal to 1.2191 m\n",
            "Do you want to perform another conversion? (yes/no): no\n",
            "End of program!\n"
          ]
        }
      ]
    },
    {
      "cell_type": "markdown",
      "metadata": {
        "id": "PXi1-mJm4O6A"
      },
      "source": [
        "**Task - 2:**\n",
        "\n",
        "Create a Python program that performs various mathematical operations on a list of numbers.\n",
        "*   The program should:\n",
        "1. Prompt the user to choose an operation (e.g., find the sum, average, maximum, or minimum of the numbers)\n",
        "2. Ask the user to input a list of numbers (separated by spaces).\n",
        "3. Perform the selected operation and display the result.\n",
        "4. Handle potential errors, such as invalid input or empty lists.\n",
        "*   Requirements:\n",
        "1. Functions: Define at least one function for each operation (sum, average, maximum, minimum).\n",
        "2. Error Handling: Use try-except blocks to handle invalid input (e.g., non-numeric values or empty lists).\n",
        "3. User Input: Prompt the user to select the operation and input the list of numbers.\n",
        "4. Docstrings: Include a docstring in each function to describe its purpose, parameters, and\n",
        "return value."
      ]
    },
    {
      "cell_type": "code",
      "source": [
        "def find_sum(nums):\n",
        "    \"\"\"\n",
        "    Calculates the sum of a list of numbers.\n",
        "\n",
        "    Parameters:\n",
        "    nums (list of float): List of numbers (float or int).\n",
        "\n",
        "    Returns:\n",
        "    float: Sum of the numbers.\n",
        "    \"\"\"\n",
        "    return sum(nums)\n",
        "\n",
        "def average(nums):\n",
        "    \"\"\"\n",
        "    Calculates the average of a list of numbers.\n",
        "\n",
        "    Parameters:\n",
        "    nums (list of float): List of numbers (float or int).\n",
        "\n",
        "    Returns:\n",
        "    float: Average of the numbers.\n",
        "    \"\"\"\n",
        "    return sum(nums) / len(nums)\n",
        "\n",
        "def find_max(nums):\n",
        "    \"\"\"\n",
        "    Finds the maximum value in a list of numbers.\n",
        "\n",
        "    Parameters:\n",
        "    nums (list of float): List of numbers (float or int).\n",
        "\n",
        "    Returns:\n",
        "    float: Maximum number.\n",
        "    \"\"\"\n",
        "    return max(nums)\n",
        "\n",
        "def find_min(nums):\n",
        "    \"\"\"\n",
        "    Finds the minimum value in a list of numbers.\n",
        "\n",
        "    Parameters:\n",
        "    nums (list of float): List of numbers (float or int).\n",
        "\n",
        "    Returns:\n",
        "    float: Minimum number.\n",
        "    \"\"\"\n",
        "    return min(nums)\n",
        "\n",
        "def get_nums():\n",
        "    \"\"\"\n",
        "    Prompts the user to enter a list of numbers.\n",
        "\n",
        "    Returns:\n",
        "    list of float: The list of numbers entered by the user.\n",
        "    \"\"\"\n",
        "    while True:\n",
        "        try:\n",
        "            numbers = list(map(float, input(\"Enter numbers separated by spaces: \").split()))\n",
        "            if not numbers:\n",
        "                print(\"Error: The list cannot be empty. Please enter at least one number.\")\n",
        "                continue\n",
        "            return numbers\n",
        "        except ValueError:\n",
        "            print(\"Error: Invalid input. Please enter numbers separated by spaces.\")\n",
        "\n",
        "def main():\n",
        "    operations = {\n",
        "        \"1\": (\"Sum\", find_sum),\n",
        "        \"2\": (\"Average\", average),\n",
        "        \"3\": (\"Maximum\", find_max),\n",
        "        \"4\": (\"Minimum\", find_min)\n",
        "    }\n",
        "\n",
        "    while True:\n",
        "        print(\"\\nChoose a mathematical operation:\")\n",
        "        for key, (name, _) in operations.items():\n",
        "            print(f\"{key}. {name}\")\n",
        "\n",
        "        choice = input(\"Enter the number of the operation you want to perform: \").strip()\n",
        "\n",
        "        if choice not in operations:\n",
        "            print(\"Invalid choice. Please select a valid option.\")\n",
        "            continue\n",
        "\n",
        "        operation_name, operation_func = operations[choice]\n",
        "        print(f\"You have selected: {operation_name}\")\n",
        "\n",
        "        num = get_nums()\n",
        "        result = operation_func(num)\n",
        "\n",
        "        print(f\"Result: {result}\")\n",
        "\n",
        "        again = input(\"Do you want to perform another operation? (yes/no): \").strip().lower()\n",
        "        if again != \"yes\":\n",
        "            print(\"End of program!\")\n",
        "            break\n",
        "\n",
        "if __name__ == \"__main__\":\n",
        "    main()\n"
      ],
      "metadata": {
        "id": "4rbGFMSBDJsh",
        "colab": {
          "base_uri": "https://localhost:8080/"
        },
        "outputId": "cf68f543-c4b1-4c16-b526-8ea31f5d930d"
      },
      "execution_count": 2,
      "outputs": [
        {
          "output_type": "stream",
          "name": "stdout",
          "text": [
            "\n",
            "Choose a mathematical operation:\n",
            "1. Sum\n",
            "2. Average\n",
            "3. Maximum\n",
            "4. Minimum\n",
            "Enter the number of the operation you want to perform: 1\n",
            "You have selected: Sum\n",
            "Enter numbers separated by spaces: 2 5\n",
            "Result: 7.0\n",
            "Do you want to perform another operation? (yes/no): no\n",
            "End of program!\n"
          ]
        }
      ]
    },
    {
      "cell_type": "markdown",
      "metadata": {
        "id": "xI6lnXOe4qsJ"
      },
      "source": [
        "# **Exercies on List Manupilation**"
      ]
    },
    {
      "cell_type": "markdown",
      "metadata": {
        "id": "GBCyqxbB4ujg"
      },
      "source": [
        "**1. Extract Every Other Element:**\n",
        "\n",
        "  Write a Python function that extracts every other element from a list, starting from the first element.\n",
        "\n",
        "  Requirements:\n",
        "- Define a function extract every other(lst) that takes a list lst as input and returns a\n",
        "new list containing every other element from the original list.\n",
        "- Example: For the input [1, 2, 3, 4, 5, 6], the output should be [1, 3, 5].\n"
      ]
    },
    {
      "cell_type": "code",
      "execution_count": 7,
      "metadata": {
        "colab": {
          "base_uri": "https://localhost:8080/"
        },
        "id": "jdq3uHAJ4zbP",
        "outputId": "72228dee-63bc-4751-f449-bcdfba446f20"
      },
      "outputs": [
        {
          "output_type": "stream",
          "name": "stdout",
          "text": [
            "Enter elements separated by space: 1 4 6 8 0 2 \n",
            "List: ['1', '4', '6', '8', '0', '2']\n",
            "Every other element in the list: ['1', '6', '0']\n"
          ]
        }
      ],
      "source": [
        "def extract(lst):\n",
        "  \"\"\"\n",
        "  Extracts every other elemet from a list, starting from the first element.\n",
        "\n",
        "  Parameters:\n",
        "  lst (list): The input list\n",
        "\n",
        "  Returns:\n",
        "  list: a new list containing every other element from the original list\n",
        "  \"\"\"\n",
        "  return lst[::2] #slice operator (start : stop : step)\n",
        "\n",
        "def main():\n",
        "    user_input = input(\"Enter elements separated by space: \").split()\n",
        "    print(f\"List:\", user_input)\n",
        "    print(f\"Every other element in the list: {extract(user_input)}\")\n",
        "\n",
        "if __name__ == \"__main__\":\n",
        "    main()"
      ]
    },
    {
      "cell_type": "markdown",
      "metadata": {
        "id": "1z0T0n125DAF"
      },
      "source": [
        "**2. Slice a Sublist:**\n",
        "\n",
        "  Write a Python function that returns a sublist from a given list, starting from a specified index and ending at another specified index.\n",
        "\n",
        "  Requirements:\n",
        "- Define a function get sublist(lst, start, end) that takes a list lst, a starting index start, and an ending index end as input and returns the sublist from start to end (inclusive).\n",
        "- Example: For the input [1, 2, 3, 4, 5, 6] with start=2 and end=4, the output should be [3, 4, 5]."
      ]
    },
    {
      "cell_type": "code",
      "execution_count": 9,
      "metadata": {
        "colab": {
          "base_uri": "https://localhost:8080/"
        },
        "id": "iz0tLRA05KTy",
        "outputId": "4dff4eb8-7dd9-44c9-d9f0-6cb9dab804f4"
      },
      "outputs": [
        {
          "output_type": "stream",
          "name": "stdout",
          "text": [
            "Original list: [1, 2, 3, 4, 5, 6]\n",
            "The sublist from the specified start to end is:  [3, 4, 5]\n"
          ]
        }
      ],
      "source": [
        "def get_sublist(lst, start, end):\n",
        "  \"\"\"\n",
        "  Returns a sublist from a given list, starting from a specified index and ending at another specified index.\n",
        "\n",
        "  Parameters:\n",
        "  lst (list): The input list\n",
        "  start (int): The starting index\n",
        "  end (int): The ending index\n",
        "\n",
        "  Returns:\n",
        "  list: The sublist from start to end (inclusive)\n",
        "\n",
        "  \"\"\"\n",
        "\n",
        "  return lst[start:end+1]\n",
        "\n",
        "lst = [1, 2, 3, 4, 5, 6]\n",
        "start = 2\n",
        "end = 4\n",
        "\n",
        "result = get_sublist(lst, start, end)\n",
        "print(\"Original list:\", lst)\n",
        "print(\"The sublist from the specified start to end is: \", result)"
      ]
    },
    {
      "cell_type": "markdown",
      "metadata": {
        "id": "XY28FUpU5VDS"
      },
      "source": [
        "**3. Reverse a List Using Slicing:**\n",
        "\n",
        "  Write a Python function that reverses a list using slicing.\n",
        "\n",
        "  Requirements:\n",
        "- Define a function reverse list(lst) that takes a list lst and returns a reversed list using slicing.\n",
        "- Example: For the input [1, 2, 3, 4, 5], the output should be [5, 4, 3, 2, 1]."
      ]
    },
    {
      "cell_type": "code",
      "execution_count": 11,
      "metadata": {
        "colab": {
          "base_uri": "https://localhost:8080/"
        },
        "id": "QWl3GQEh5cp_",
        "outputId": "0df7648b-a2aa-451b-a7ed-1e4fcc3d55fe"
      },
      "outputs": [
        {
          "output_type": "stream",
          "name": "stdout",
          "text": [
            "Original list: [1, 2, 3, 4, 5, 6]\n",
            "The reversed list is:  [6, 5, 4, 3, 2, 1]\n"
          ]
        }
      ],
      "source": [
        "def reverse(lst):\n",
        "  return lst[::-1]\n",
        "\n",
        "lst = [1, 2, 3, 4, 5, 6]\n",
        "result = reverse(lst)\n",
        "\n",
        "print(\"Original list:\", lst)\n",
        "print(\"The reversed list is: \", result)"
      ]
    },
    {
      "cell_type": "markdown",
      "metadata": {
        "id": "aKquZUcW5pt_"
      },
      "source": [
        "**4. Remove the First and Last Elements:**\n",
        "\n",
        "  Write a Python function that removes the first and last elements of a list and returns the resulting sublist.\n",
        "\n",
        "  Requirements:\n",
        "- Define a function remove first last(lst) that takes a list lst and returns a sublist without\n",
        "the first and last elements using slicing.\n",
        "- Example: For the input [1, 2, 3, 4, 5], the output should be [2, 3, 4]."
      ]
    },
    {
      "cell_type": "code",
      "execution_count": 12,
      "metadata": {
        "colab": {
          "base_uri": "https://localhost:8080/"
        },
        "id": "w1kB3REO5sNk",
        "outputId": "6059372e-269a-4d3c-d6c8-8c4d50e46e5d"
      },
      "outputs": [
        {
          "output_type": "stream",
          "name": "stdout",
          "text": [
            "Original list: [1, 2, 3, 4, 5, 6, 7, 8]\n",
            "The sublist without the first and last elements is:  [2, 3, 4, 5, 6, 7]\n"
          ]
        }
      ],
      "source": [
        "def remove(lst):\n",
        "  return lst[1:-1]\n",
        "\n",
        "lst = [1, 2, 3, 4, 5, 6, 7, 8]\n",
        "result = remove(lst)\n",
        "\n",
        "print(\"Original list:\", lst)\n",
        "print(\"The sublist without the first and last elements is: \", result)"
      ]
    },
    {
      "cell_type": "markdown",
      "metadata": {
        "id": "wxIDdHGn50bI"
      },
      "source": [
        "**5. Get the First n Elements:**\n",
        "\n",
        "  Write a Python function that extracts the first n elements from a list.\n",
        "\n",
        "  Requirements:\n",
        "- Define a function get first n(lst, n) that takes a list lst and an integer n as input and returns the first n elements of the list using slicing.\n",
        "- Example: For the input [1, 2, 3, 4, 5] with n=3, the output should be [1, 2, 3]."
      ]
    },
    {
      "cell_type": "code",
      "execution_count": 13,
      "metadata": {
        "colab": {
          "base_uri": "https://localhost:8080/"
        },
        "id": "rQ2id90e52TO",
        "outputId": "f108c6a3-d392-4b1b-f6eb-facc2d59dcc2"
      },
      "outputs": [
        {
          "output_type": "stream",
          "name": "stdout",
          "text": [
            "Original list: [1, 2, 3, 4, 5, 6, 7, 8]\n",
            "The first 4 elements of the list are:  [1, 2, 3, 4]\n"
          ]
        }
      ],
      "source": [
        "def get_first_n(lst, n):\n",
        "  return lst[:n]\n",
        "\n",
        "lst = [1, 2, 3, 4, 5, 6, 7, 8]\n",
        "n = 4\n",
        "\n",
        "result = get_first_n(lst, n)\n",
        "\n",
        "print(\"Original list:\", lst)\n",
        "print(\"The first\", n, \"elements of the list are: \", result)"
      ]
    },
    {
      "cell_type": "markdown",
      "metadata": {
        "id": "PgH3Xw8L6CiO"
      },
      "source": [
        "**6. Extract Elements from the End:**\n",
        "\n",
        "  Write a Python function that extracts the last n elements of a list using slicing.\n",
        "\n",
        "  Requirements:\n",
        "- Define a function get last n(lst, n) that takes a list lst and an integer n as input and returns the last n elements of the list.\n",
        "- Example: For the input [1, 2, 3, 4, 5] with n=2, the output should be [4, 5]."
      ]
    },
    {
      "cell_type": "code",
      "execution_count": 14,
      "metadata": {
        "colab": {
          "base_uri": "https://localhost:8080/"
        },
        "id": "2eTDZcej6Lx3",
        "outputId": "b7277d37-f28a-4cec-ced7-33369b86a9af"
      },
      "outputs": [
        {
          "output_type": "stream",
          "name": "stdout",
          "text": [
            "Original list: [1, 2, 3, 4, 5, 6, 7, 8]\n",
            "The last 4 elements of the list are:  [5, 6, 7, 8]\n"
          ]
        }
      ],
      "source": [
        "def get_last_n(lst, n):\n",
        "  return lst[-n:]\n",
        "\n",
        "lst = [1, 2, 3, 4, 5, 6, 7, 8]\n",
        "n = 4\n",
        "\n",
        "result = get_last_n(lst, n)\n",
        "\n",
        "print(\"Original list:\", lst)\n",
        "print(\"The last\", n, \"elements of the list are: \", result)"
      ]
    },
    {
      "cell_type": "markdown",
      "metadata": {
        "id": "EH1eN7LP6Raz"
      },
      "source": [
        "**7. Extract Elements in Reverse Order:**\n",
        "\n",
        "  Write a Python function that extracts a list of elements in reverse order starting from the second-to-last element and skipping one element in between.\n",
        "\n",
        "  Requirements:\n",
        "- Define a function reverse skip(lst) that takes a list lst and returns a new list containing every second element starting from the second-to-last, moving backward.\n",
        "- Example: For the input [1, 2, 3, 4, 5, 6], the output should be [5, 3, 1]."
      ]
    },
    {
      "cell_type": "code",
      "execution_count": 15,
      "metadata": {
        "colab": {
          "base_uri": "https://localhost:8080/"
        },
        "id": "1OnnnDX46Vkr",
        "outputId": "b2071565-1935-410c-d57d-007f79db4489"
      },
      "outputs": [
        {
          "output_type": "stream",
          "name": "stdout",
          "text": [
            "Original list: [1, 2, 3, 4, 5, 6, 7, 8]\n",
            "Every other element in reverse order:  [7, 5, 3, 1]\n"
          ]
        }
      ],
      "source": [
        "def reverse_skip(lst):\n",
        "  return lst[-2::-2]\n",
        "\n",
        "lst = [1, 2, 3, 4, 5, 6, 7, 8]\n",
        "result = reverse_skip(lst)\n",
        "\n",
        "print(\"Original list:\", lst)\n",
        "print(\"Every other element in reverse order: \", result)"
      ]
    },
    {
      "cell_type": "markdown",
      "metadata": {
        "id": "r5xwyw4f6bJw"
      },
      "source": [
        "# **Exercises on Nested List**"
      ]
    },
    {
      "cell_type": "markdown",
      "metadata": {
        "id": "RPrhuQJd6mB2"
      },
      "source": [
        "**1. Flatten a Nested List:**\n",
        "\n",
        "  Write a Python function that takes a nested list and flattens it into a single list, where all the elements are in a single dimension.\n",
        "\n",
        "  Requirements:\n",
        "- Define a function flatten(lst) that takes a nested list lst and returns a flattened version of the list.\n",
        "- Example: For the input [[1, 2], [3, 4], [5]], the output should be [1, 2, 3, 4, 5]."
      ]
    },
    {
      "cell_type": "code",
      "execution_count": 19,
      "metadata": {
        "colab": {
          "base_uri": "https://localhost:8080/"
        },
        "id": "XNNHKtab6pd8",
        "outputId": "0711aae3-470f-4788-e264-9b4a052f035f"
      },
      "outputs": [
        {
          "output_type": "stream",
          "name": "stdout",
          "text": [
            "Enter the number of sublists: 3\n",
            "Enter the number of elements in sublist 1: 3\n",
            "Enter element 1 of sublist 1: 1\n",
            "Enter element 2 of sublist 1: 2\n",
            "Enter element 3 of sublist 1: 3\n",
            "Enter the number of elements in sublist 2: 4\n",
            "Enter element 1 of sublist 2: 1\n",
            "Enter element 2 of sublist 2: 2\n",
            "Enter element 3 of sublist 2: 4\n",
            "Enter element 4 of sublist 2: 7\n",
            "Enter the number of elements in sublist 3: 3\n",
            "Enter element 1 of sublist 3: 4\n",
            "Enter element 2 of sublist 3: 3\n",
            "Enter element 3 of sublist 3: 6\n",
            "Original Nested List: [['1', '2', '3'], ['1', '2', '4', '7'], ['4', '3', '6']]\n",
            "Flattened List: ['1', '2', '3', '1', '2', '4', '7', '4', '3', '6']\n"
          ]
        }
      ],
      "source": [
        "def flatten(lst):\n",
        "    flat_list = []\n",
        "    for item in lst:\n",
        "        if isinstance(item, list):\n",
        "            flat_list.extend(flatten(item))\n",
        "        else:\n",
        "            flat_list.append(item)\n",
        "    return flat_list\n",
        "\n",
        "def main():\n",
        "    x = int(input(\"Enter the number of sublists: \"))\n",
        "    list1 = []\n",
        "\n",
        "    for i in range(x):\n",
        "        y = int(input(f\"Enter the number of elements in sublist {i+1}: \"))\n",
        "        sublist = []\n",
        "        for j in range(y):\n",
        "            sublist.append(input(f\"Enter element {j+1} of sublist {i+1}: \"))\n",
        "        list1.append(sublist)\n",
        "\n",
        "    print(\"Original Nested List:\", list1)\n",
        "    print(\"Flattened List:\", flatten(list1))\n",
        "\n",
        "if __name__ == \"__main__\":\n",
        "    main()\n"
      ]
    },
    {
      "cell_type": "markdown",
      "metadata": {
        "id": "TQn4bqo06va1"
      },
      "source": [
        "**2. Accessing Nested List Elements:**\n",
        "\n",
        "  Write a Python function that extracts a specific element from a nested list given its indices.\n",
        "\n",
        "  Requirements:\n",
        "- Define a function access nested element(lst, indices) that takes a nested list lst and a list of indices indices, and returns the element at that position.\n",
        "- Example: For the input lst = [[1, 2, 3], [4, 5, 6], [7, 8, 9]] with indices = [1, 2], the output should be 6."
      ]
    },
    {
      "cell_type": "code",
      "execution_count": 24,
      "metadata": {
        "colab": {
          "base_uri": "https://localhost:8080/"
        },
        "id": "YDjExGsn67Bj",
        "outputId": "7a5e17f1-f33a-4cb6-b48e-95077051abde"
      },
      "outputs": [
        {
          "output_type": "stream",
          "name": "stdout",
          "text": [
            "Enter the number of sublists: 4\n",
            "Enter the number of elements in sublist 1: 1\n",
            "Enter element 1 of sublist 1: 2\n",
            "Enter the number of elements in sublist 2: 3\n",
            "Enter element 1 of sublist 2: 3\n",
            "Enter element 2 of sublist 2: 4\n",
            "Enter element 3 of sublist 2: 5\n",
            "Enter the number of elements in sublist 3: 4\n",
            "Enter element 1 of sublist 3: 2\n",
            "Enter element 2 of sublist 3: 5\n",
            "Enter element 3 of sublist 3: 7\n",
            "Enter element 4 of sublist 3: 4\n",
            "Enter the number of elements in sublist 4: 3\n",
            "Enter element 1 of sublist 4: 2\n",
            "Enter element 2 of sublist 4: 4\n",
            "Enter element 3 of sublist 4: 1\n",
            "Original Nested List: [['2'], ['3', '4', '5'], ['2', '5', '7', '4'], ['2', '4', '1']]\n",
            "Enter indices separated by space: 2 3\n",
            "Element at indices [2, 3] : 4\n"
          ]
        }
      ],
      "source": [
        "def access_nested_element(lst, indices):\n",
        "    elem = lst\n",
        "    for index in indices:\n",
        "        elem = elem[index]\n",
        "    return elem\n",
        "\n",
        "def main():\n",
        "    x = int(input(\"Enter the number of sublists: \"))\n",
        "    list1 = []\n",
        "\n",
        "    for i in range(x):\n",
        "        y = int(input(f\"Enter the number of elements in sublist {i+1}: \"))\n",
        "        sublist = []\n",
        "        for j in range(y):\n",
        "            sublist.append(input(f\"Enter element {j+1} of sublist {i+1}: \"))\n",
        "        list1.append(sublist)\n",
        "\n",
        "    print(\"Original Nested List:\", list1)\n",
        "\n",
        "    indices = list(map(int, input(\"Enter indices separated by space: \").split()))\n",
        "\n",
        "    try:\n",
        "        print(\"Element at indices\", indices, \":\", access_nested_element(list1, indices))\n",
        "    except IndexError:\n",
        "        print(\"Error: Indices out of range!\")\n",
        "\n",
        "if __name__ == \"__main__\":\n",
        "    main()"
      ]
    },
    {
      "cell_type": "markdown",
      "metadata": {
        "id": "o6QP6w4f7D03"
      },
      "source": [
        "**3. Sum of All Elements in a Nested List:**\n",
        "\n",
        "  Write a Python function that calculates the sum of all the numbers in a nested list (regardless of depth).\n",
        "\n",
        "  Requirements:\n",
        "- Define a function sum nested(lst) that takes a nested list lst and returns the sum of all the elements.\n",
        "- Example: For the input [[1, 2], [3, [4, 5]], 6], the output should be 21."
      ]
    },
    {
      "cell_type": "code",
      "execution_count": 25,
      "metadata": {
        "colab": {
          "base_uri": "https://localhost:8080/"
        },
        "id": "QobPBn8K7JNV",
        "outputId": "f2bd339b-d586-405d-fb61-b35fc3b6ca4b"
      },
      "outputs": [
        {
          "output_type": "stream",
          "name": "stdout",
          "text": [
            "Enter the number of sublists: 3\n",
            "Enter the number of elements in sublist 1: 2\n",
            "Enter element 1 of sublist 1: 4\n",
            "Enter element 2 of sublist 1: 5\n",
            "Enter the number of elements in sublist 2: 2\n",
            "Enter element 1 of sublist 2: 4\n",
            "Enter element 2 of sublist 2: 5\n",
            "Enter the number of elements in sublist 3: 7\n",
            "Enter element 1 of sublist 3: 8\n",
            "Enter element 2 of sublist 3: 3\n",
            "Enter element 3 of sublist 3: 2\n",
            "Enter element 4 of sublist 3: 4\n",
            "Enter element 5 of sublist 3: 3\n",
            "Enter element 6 of sublist 3: 2\n",
            "Enter element 7 of sublist 3: 1\n",
            "Original Nested List: [[4, 5], [4, 5], [8, 3, 2, 4, 3, 2, 1]]\n",
            "Sum of all elements: 41\n"
          ]
        }
      ],
      "source": [
        "def sum_nested(lst):\n",
        "    return sum(flatten(lst))\n",
        "\n",
        "def main():\n",
        "    x = int(input(\"Enter the number of sublists: \"))\n",
        "    list1 = []\n",
        "\n",
        "    for i in range(x):\n",
        "        y = int(input(f\"Enter the number of elements in sublist {i+1}: \"))\n",
        "        sublist = []\n",
        "        for j in range(y):\n",
        "            sublist.append(int(input(f\"Enter element {j+1} of sublist {i+1}: \")))\n",
        "        list1.append(sublist)\n",
        "\n",
        "    print(\"Original Nested List:\", list1)\n",
        "    print(\"Sum of all elements:\", sum_nested(list1))\n",
        "\n",
        "if __name__ == \"__main__\":\n",
        "    main()\n"
      ]
    },
    {
      "cell_type": "markdown",
      "metadata": {
        "id": "j5VWX6-O7OWg"
      },
      "source": [
        "**4. Remove Specific Element from a Nested List:**\n",
        "  \n",
        "  Write a Python function that removes all occurrences of a specific element from a nested list.\n",
        "\n",
        "  Requirements:\n",
        "- Define a function remove element(lst, elem) that removes elem from lst and returns the modified list.\n",
        "- Example: For the input lst = [[1, 2], [3, 2], [4, 5]] and elem = 2, the output should be [[1], [3], [4, 5]]."
      ]
    },
    {
      "cell_type": "code",
      "execution_count": 29,
      "metadata": {
        "colab": {
          "base_uri": "https://localhost:8080/"
        },
        "id": "ddxQBOh27VzU",
        "outputId": "6e5ba7cd-628f-4ec6-dc7b-1e31daa32e1e"
      },
      "outputs": [
        {
          "output_type": "stream",
          "name": "stdout",
          "text": [
            "Enter the number of sublists: 3\n",
            "Enter the number of elements in sublist 1: 2\n",
            "Enter element 1 of sublist 1: 4\n",
            "Enter element 2 of sublist 1: 5\n",
            "Enter the number of elements in sublist 2: 3\n",
            "Enter element 1 of sublist 2: 1\n",
            "Enter element 2 of sublist 2: 4\n",
            "Enter element 3 of sublist 2: 5\n",
            "Enter the number of elements in sublist 3: 3\n",
            "Enter element 1 of sublist 3: 6\n",
            "Enter element 2 of sublist 3: 5\n",
            "Enter element 3 of sublist 3: 4\n",
            "Enter element to remove: 4\n",
            "Original Nested List: [[4, 5], [1, 4, 5], [6, 5, 4]]\n",
            "Modified list: [[5], [1, 5], [6, 5]]\n"
          ]
        }
      ],
      "source": [
        "def remove_element(lst, elem):\n",
        "    if isinstance(lst, list):\n",
        "        return [remove_element(sublist, elem) for sublist in lst if sublist != elem]\n",
        "    return lst if lst != elem else None\n",
        "\n",
        "def clean_list(lst):\n",
        "    if isinstance(lst, list):\n",
        "        return [clean_list(item) for item in lst if item is not None]\n",
        "    return lst\n",
        "\n",
        "def main():\n",
        "    x = int(input(\"Enter the number of sublists: \"))\n",
        "    list1 = []\n",
        "\n",
        "    for i in range(x):\n",
        "        y = int(input(f\"Enter the number of elements in sublist {i+1}: \"))\n",
        "        sublist = []\n",
        "        for j in range(y):\n",
        "            sublist.append(int(input(f\"Enter element {j+1} of sublist {i+1}: \")))\n",
        "        list1.append(sublist)\n",
        "\n",
        "    elem = int(input(\"Enter element to remove: \"))\n",
        "    modified_list = clean_list(remove_element(list1, elem))\n",
        "\n",
        "    print(\"Original Nested List:\", list1)\n",
        "    print(\"Modified list:\", modified_list)\n",
        "\n",
        "if __name__ == \"__main__\":\n",
        "    main()"
      ]
    },
    {
      "cell_type": "markdown",
      "metadata": {
        "id": "Mz6EAPj37chA"
      },
      "source": [
        "**5. Find the Maximum Element in a Nested List:**\n",
        "\n",
        "  Write a Python function that finds the maximum element in a nested list (regardless of depth).\n",
        "\n",
        "  Requirements:\n",
        "- Define a function find max(lst) that takes a nested list lst and returns the maximum element.\n",
        "- Example: For the input [[1, 2], [3, [4, 5]], 6], the output should be 6."
      ]
    },
    {
      "cell_type": "code",
      "execution_count": null,
      "metadata": {
        "colab": {
          "base_uri": "https://localhost:8080/"
        },
        "id": "K54O2q807sBM",
        "outputId": "fe36c8b8-18b7-449c-f686-6c1136ad7033"
      },
      "outputs": [
        {
          "name": "stdout",
          "output_type": "stream",
          "text": [
            "Original list: [[1, 2, 3], [4, 5, [10, 11], 6], [7, 8, 9]]\n",
            "The maximum element in the nested list is: 11\n"
          ]
        }
      ],
      "source": [
        "def find_max(lst):\n",
        "  max_val = float('-inf')\n",
        "  for item in lst:\n",
        "    if isinstance(item, list):\n",
        "      max_val = max(max_val, find_max(item))\n",
        "    else:\n",
        "      max_val = max(max_val, item)\n",
        "  return max_val\n",
        "lst = [[1, 2, 3], [4, 5,[10,11], 6], [7, 8, 9]]\n",
        "print(\"Original list:\", lst)\n",
        "max_value = find_max(lst)\n",
        "print(\"The maximum element in the nested list is:\",max_value)\n"
      ]
    },
    {
      "cell_type": "markdown",
      "metadata": {
        "id": "dlaSqLjy7vtJ"
      },
      "source": [
        "**6. Count Occurrences of an Element in a Nested List:**\n",
        "\n",
        "  Write a Python function that counts how many times a specific element appears in a nested list.\n",
        "\n",
        "  Requirements:\n",
        "- Define a function count occurrences(lst, elem) that counts the occurrences of elem in the nested list lst.\n",
        "- Example: For the input lst = [[1, 2], [2, 3], [2, 4]] and elem = 2, the output should be 3."
      ]
    },
    {
      "cell_type": "code",
      "execution_count": null,
      "metadata": {
        "colab": {
          "base_uri": "https://localhost:8080/"
        },
        "id": "J9vmNX3K7045",
        "outputId": "e2bd1d48-d87f-4947-ec68-1b810f7d8536"
      },
      "outputs": [
        {
          "name": "stdout",
          "output_type": "stream",
          "text": [
            "Original list: [[1, 7, 3], [4, 5, [10, 7], 6], [7, 7, 9]]\n",
            "Number of occurrences of 7 in the nested list is:  4\n"
          ]
        }
      ],
      "source": [
        "def count_occurrences(lst, elem):\n",
        "  count = 0\n",
        "  for item in lst:\n",
        "    if isinstance(item,list):\n",
        "      count += count_occurrences(item, elem)\n",
        "    elif item == elem:\n",
        "      count += 1\n",
        "  return count\n",
        "\n",
        "lst = [[1, 7, 3], [4, 5,[10,7], 6], [7, 7, 9]]\n",
        "print(\"Original list:\", lst)\n",
        "elem = 7\n",
        "res = count_occurrences(lst,elem)\n",
        "print(f\"Number of occurrences of {elem} in the nested list is: \", res)"
      ]
    },
    {
      "cell_type": "markdown",
      "metadata": {
        "id": "1oie5S2S74Vu"
      },
      "source": [
        "**7. Flatten a List of Lists of Lists:**\n",
        "\n",
        "  Write a Python function that flattens a list of lists of lists into a single list, regardless of the depth.\n",
        "\n",
        "  Requirements:\n",
        "- Define a function deep flatten(lst) that takes a deeply nested list lst and returns a single flattened list.\n",
        "- Example: For the input [[[1, 2], [3, 4]], [[5, 6], [7, 8]]], the output should be [1, 2, 3, 4, 5, 6, 7, 8]."
      ]
    },
    {
      "cell_type": "code",
      "execution_count": null,
      "metadata": {
        "colab": {
          "base_uri": "https://localhost:8080/"
        },
        "id": "3ENzCDCH7_1Z",
        "outputId": "c966760e-c715-401f-b09a-9b6d76070546"
      },
      "outputs": [
        {
          "name": "stdout",
          "output_type": "stream",
          "text": [
            "Original list: [[1, 7, 3], [4, 5, [10, 17], 6], [7, 71, 9]]\n",
            "Flattened list: [1, 7, 3, 4, 5, 10, 17, 6, 7, 71, 9]\n"
          ]
        }
      ],
      "source": [
        "def deep_flatten(lst):\n",
        "  flattened_lst = []\n",
        "  for item in lst:\n",
        "    if isinstance(item, list):\n",
        "      flattened_lst.extend(deep_flatten(item))\n",
        "    else:\n",
        "      flattened_lst.append(item)\n",
        "  return flattened_lst\n",
        "\n",
        "lst = [[1, 7, 3], [4, 5,[10,17], 6], [7, 71, 9]]\n",
        "print(\"Original list:\", lst)\n",
        "flattened_lst = deep_flatten(lst)\n",
        "print(\"Flattened list:\", flattened_lst)"
      ]
    },
    {
      "cell_type": "markdown",
      "metadata": {
        "id": "5yPC6CYx8I9D"
      },
      "source": [
        "**8. Nested List Average:**\n",
        "\n",
        "  Write a Python function that calculates the average of all elements in a nested list.\n",
        "\n",
        "  Requirements:\n",
        "- Define a function average nested(lst) that takes a nested list lst and returns the average of all the elements.\n",
        "- Example: For the input [[1, 2], [3, 4], [5, 6]], the output should be 3.5."
      ]
    },
    {
      "cell_type": "code",
      "execution_count": null,
      "metadata": {
        "colab": {
          "base_uri": "https://localhost:8080/"
        },
        "id": "ERcsjPZL8S47",
        "outputId": "50baf6ec-99cf-4089-a346-172f44bc37e4"
      },
      "outputs": [
        {
          "name": "stdout",
          "output_type": "stream",
          "text": [
            "Original list: [[1, 2, 3], [4, 5, [10, 11], 6], [7, 8, 9]]\n",
            "The average of all the elements in the nested list is:  6.0\n"
          ]
        }
      ],
      "source": [
        "def avg_nested(lst):\n",
        "  flattened_lst = deep_flatten(lst)\n",
        "  total = sum(flattened_lst)\n",
        "  return total/len(flattened_lst)\n",
        "lst = [[1, 2, 3], [4, 5,[10,11], 6], [7, 8, 9]]\n",
        "print(\"Original list:\", lst)\n",
        "res = avg_nested(lst)\n",
        "print(\"The average of all the elements in the nested list is: \", res)"
      ]
    },
    {
      "cell_type": "markdown",
      "metadata": {
        "id": "EI2I8jeD8W_R"
      },
      "source": [
        "# **Basic Vector and Matrix Operations with Numpy**\n",
        "\n",
        "**Problem - 1: Array Creation : **\n",
        "\n",
        "Complete the following Tasks:\n",
        "1. Initialize an empty array with size 2X2.\n",
        "2. Initialize an all one array with size 4X2.\n",
        "3. Return a new array of given shape and type, filled with fill value.{Hint: np.full}\n",
        "4. Return a new array of zeros with same shape and type as a given array.{Hint: np.zeros like}\n",
        "5. Return a new array of ones with same shape and type as a given array.{Hint: np.ones like}\n",
        "6. For an existing list new_list = [1,2,3,4] convert to an numpy array.{Hint: np.array()}"
      ]
    },
    {
      "cell_type": "code",
      "source": [
        "import numpy as np\n",
        "\n",
        "# 1. Initialize an empty array with size 2x2\n",
        "empty_array = np.empty((2, 2))\n",
        "print(\"1. Empty Array (2x2):\\n\", empty_array)\n",
        "\n",
        "# 2. Initialize an all-one array with size 4x2\n",
        "ones_array = np.ones((4, 2))\n",
        "print(\"\\n2. All Ones Array (4x2):\\n\", ones_array)\n",
        "\n",
        "# 3. Return a new array of given shape and type, filled with a fill value\n",
        "fill_value_array = np.full((3, 3), 7)\n",
        "print(\"\\n3. Array filled with 7 (3x3):\\n\", fill_value_array)\n",
        "\n",
        "# 4. Return a new array of zeros with the same shape and type as a given array\n",
        "reference_array = np.array([[1, 2], [3, 4]])\n",
        "zeros_like_array = np.zeros_like(reference_array)\n",
        "print(\"\\n4. Zeros Array with Same Shape as Reference Array:\\n\", zeros_like_array)\n",
        "\n",
        "# 5. Return a new array of ones with the same shape and type as a given array\n",
        "ones_like_array = np.ones_like(reference_array)\n",
        "print(\"\\n5. Ones Array with Same Shape as Reference Array:\\n\", ones_like_array)\n",
        "\n",
        "# 6. Convert an existing list to a NumPy array\n",
        "new_list = [1, 2, 3, 4]\n",
        "numpy_array = np.array(new_list)\n",
        "print(\"\\n6. Converted NumPy Array:\\n\", numpy_array)\n"
      ],
      "metadata": {
        "colab": {
          "base_uri": "https://localhost:8080/"
        },
        "id": "q_6bwVH-Z461",
        "outputId": "4ec1ab38-606a-48d2-b9cf-677e3ce98617"
      },
      "execution_count": 34,
      "outputs": [
        {
          "output_type": "stream",
          "name": "stdout",
          "text": [
            "1. Empty Array (2x2):\n",
            " [[2.63540747e-316 0.00000000e+000]\n",
            " [4.94065646e-324             nan]]\n",
            "\n",
            "2. All Ones Array (4x2):\n",
            " [[1. 1.]\n",
            " [1. 1.]\n",
            " [1. 1.]\n",
            " [1. 1.]]\n",
            "\n",
            "3. Array filled with 7 (3x3):\n",
            " [[7 7 7]\n",
            " [7 7 7]\n",
            " [7 7 7]]\n",
            "\n",
            "4. Zeros Array with Same Shape as Reference Array:\n",
            " [[0 0]\n",
            " [0 0]]\n",
            "\n",
            "5. Ones Array with Same Shape as Reference Array:\n",
            " [[1 1]\n",
            " [1 1]]\n",
            "\n",
            "6. Converted NumPy Array:\n",
            " [1 2 3 4]\n"
          ]
        }
      ]
    },
    {
      "cell_type": "markdown",
      "metadata": {
        "id": "_ERjz0-k95E-"
      },
      "source": [
        "**Problem - 2: Array Manipulation : Numerical Ranges and Array Indexing**\n",
        "\n",
        "**1. Create an array with values ranging from 10 to 49. {Hint:np.arrange()}.**"
      ]
    },
    {
      "cell_type": "code",
      "execution_count": 35,
      "metadata": {
        "colab": {
          "base_uri": "https://localhost:8080/"
        },
        "id": "GQpkaJQZ-K7M",
        "outputId": "b75e73fb-9ee1-4fb5-e9a4-38c9d2814460"
      },
      "outputs": [
        {
          "output_type": "stream",
          "name": "stdout",
          "text": [
            "Array with values ranging from 10 to 49: \n",
            " [10 11 12 13 14 15 16 17 18 19 20 21 22 23 24 25 26 27 28 29 30 31 32 33\n",
            " 34 35 36 37 38 39 40 41 42 43 44 45 46 47 48 49]\n"
          ]
        }
      ],
      "source": [
        "print(\"Array with values ranging from 10 to 49: \\n\",np.arange(10,50))"
      ]
    },
    {
      "cell_type": "markdown",
      "metadata": {
        "id": "DnGRUuTp-NiF"
      },
      "source": [
        "**2. Create a 3X3 matrix with values ranging from 0 to 8. {Hint:look for np.reshape()}**"
      ]
    },
    {
      "cell_type": "code",
      "execution_count": 36,
      "metadata": {
        "colab": {
          "base_uri": "https://localhost:8080/"
        },
        "id": "_6f3js1g-OtW",
        "outputId": "f179a4e3-2858-48c9-fcfe-652899455edb"
      },
      "outputs": [
        {
          "output_type": "stream",
          "name": "stdout",
          "text": [
            "3X3 matrix with values ranging from 0 to 8: \n",
            " [[0 1 2]\n",
            " [3 4 5]\n",
            " [6 7 8]]\n"
          ]
        }
      ],
      "source": [
        "array = np.arange(9)\n",
        "matrix = np.reshape(array,(3,3))\n",
        "print(\"3X3 matrix with values ranging from 0 to 8: \\n\",matrix)"
      ]
    },
    {
      "cell_type": "markdown",
      "metadata": {
        "id": "SkDxLhTW-Yix"
      },
      "source": [
        "**3. Create a 3X3 identity matrix.{Hint:np.eye()}**"
      ]
    },
    {
      "cell_type": "code",
      "execution_count": 37,
      "metadata": {
        "colab": {
          "base_uri": "https://localhost:8080/"
        },
        "id": "R01wQcGU-bKv",
        "outputId": "806bdfb8-a57d-43c6-8354-aa75cc94b17e"
      },
      "outputs": [
        {
          "output_type": "stream",
          "name": "stdout",
          "text": [
            "3X3 identity matrix: \n",
            " [[1 0 0]\n",
            " [0 1 0]\n",
            " [0 0 1]]\n"
          ]
        }
      ],
      "source": [
        "print(\"3X3 identity matrix: \\n\", np.eye(3,dtype=int))"
      ]
    },
    {
      "cell_type": "markdown",
      "metadata": {
        "id": "1R6E9Gx8-fxB"
      },
      "source": [
        "**4. Create a random array of size 30 and find the mean of the array.\n",
        "{Hint:check for np.random.random() and array.mean() function}**"
      ]
    },
    {
      "cell_type": "code",
      "execution_count": 38,
      "metadata": {
        "colab": {
          "base_uri": "https://localhost:8080/"
        },
        "id": "lZ87b3Dk-vRD",
        "outputId": "b4d84abb-9856-4c1d-ae5a-38924c6abcf0"
      },
      "outputs": [
        {
          "output_type": "stream",
          "name": "stdout",
          "text": [
            "Random array of size 30:\n",
            "[0.37085992 0.3439194  0.82697765 0.16215215 0.83737666 0.52319697\n",
            " 0.94133099 0.6282488  0.05888543 0.64622981 0.51973014 0.99259489\n",
            " 0.442438   0.31521111 0.47907597 0.51118531 0.29222121 0.0366069\n",
            " 0.07304829 0.5758699  0.65312976 0.75805893 0.4859633  0.36043308\n",
            " 0.77479617 0.11284028 0.49710221 0.48142196 0.79225347 0.31494744]\n",
            "\n",
            "Mean: 0.4936035352784609\n"
          ]
        }
      ],
      "source": [
        "random_arr = np.random.random(30)\n",
        "print(f\"Random array of size 30:\\n{random_arr}\")\n",
        "mean = np.mean(random_arr)\n",
        "print(\"\\nMean:\",mean)"
      ]
    },
    {
      "cell_type": "markdown",
      "metadata": {
        "id": "PYp7sqqD-yzV"
      },
      "source": [
        "**5. Create a 10X10 array with random values and find the minimum and maximum values.**"
      ]
    },
    {
      "cell_type": "code",
      "execution_count": 39,
      "metadata": {
        "colab": {
          "base_uri": "https://localhost:8080/"
        },
        "id": "jlAGjkFg-8Ef",
        "outputId": "ad115fa9-b0f0-455e-ef42-dfe82743f66c"
      },
      "outputs": [
        {
          "output_type": "stream",
          "name": "stdout",
          "text": [
            "10X10 array with random values:\n",
            "[[0.26329465 0.10714817 0.33331662 0.96241004 0.71048553 0.62228657\n",
            "  0.26273994 0.51645123 0.12855248 0.00310997]\n",
            " [0.80743052 0.5452145  0.5945465  0.34338553 0.66264321 0.46222918\n",
            "  0.55695428 0.818035   0.20326886 0.03030756]\n",
            " [0.37980597 0.99130119 0.86295861 0.80481271 0.82395037 0.59584946\n",
            "  0.89028788 0.87985391 0.74035526 0.68265093]\n",
            " [0.33164022 0.80823332 0.99649169 0.2079161  0.33190296 0.16894273\n",
            "  0.99704925 0.45088452 0.73431241 0.81678327]\n",
            " [0.76780782 0.93473061 0.95764892 0.36757576 0.45594318 0.80399433\n",
            "  0.77642552 0.6849168  0.73028989 0.58193441]\n",
            " [0.16301299 0.64057371 0.73386011 0.89372862 0.37333315 0.9464977\n",
            "  0.68836465 0.33034092 0.28585946 0.12499831]\n",
            " [0.15407474 0.80536047 0.23420203 0.24862539 0.73841755 0.64672901\n",
            "  0.99227119 0.45983411 0.28235623 0.8216678 ]\n",
            " [0.32323894 0.56971114 0.77361227 0.85725679 0.50824327 0.44859725\n",
            "  0.31359755 0.67391808 0.40473324 0.24677765]\n",
            " [0.53512478 0.38469144 0.97966042 0.10797398 0.27007346 0.24778178\n",
            "  0.18063915 0.06882699 0.9235491  0.56743148]\n",
            " [0.54015921 0.18776031 0.79650909 0.26516108 0.10639718 0.11044351\n",
            "  0.81784736 0.2849071  0.5371276  0.71829888]]\n",
            "\n",
            "Minimum value: 0.003109969420390102\n",
            "\n",
            "Maximum value: 0.9970492478456163\n"
          ]
        }
      ],
      "source": [
        "array = np.random.random((10, 10))\n",
        "print(f\"10X10 array with random values:\\n{array}\")\n",
        "print(f\"\\nMinimum value: {np.min(array)}\")\n",
        "print(f\"\\nMaximum value: {np.max(array)}\")"
      ]
    },
    {
      "cell_type": "markdown",
      "metadata": {
        "id": "MhVQR3aQ_Aa1"
      },
      "source": [
        "**6. Create a zero array of size 10 and replace 5th element with 1.**"
      ]
    },
    {
      "cell_type": "code",
      "execution_count": 40,
      "metadata": {
        "colab": {
          "base_uri": "https://localhost:8080/"
        },
        "id": "TQmT9HwS_Ge7",
        "outputId": "d4804d5c-7ee6-4efe-af73-aa9286d399d9"
      },
      "outputs": [
        {
          "output_type": "stream",
          "name": "stdout",
          "text": [
            "Array: [0 0 0 0 1 0 0 0 0 0]\n"
          ]
        }
      ],
      "source": [
        "zero_arr = np.zeros(10, dtype=int)\n",
        "zero_arr[4] = 1\n",
        "print(\"Array:\",zero_arr)"
      ]
    },
    {
      "cell_type": "markdown",
      "metadata": {
        "id": "o_8ULJAg_L6g"
      },
      "source": [
        "**7. Reverse an array arr = [1,2,0,0,4,0].**"
      ]
    },
    {
      "cell_type": "code",
      "execution_count": 41,
      "metadata": {
        "colab": {
          "base_uri": "https://localhost:8080/"
        },
        "id": "dbxTpqOp_Ol-",
        "outputId": "c130f045-dc9f-4720-b50c-8fa04e850099"
      },
      "outputs": [
        {
          "output_type": "stream",
          "name": "stdout",
          "text": [
            "Original array: [1, 2, 0, 0, 4, 0]\n",
            "Reversed array: [0, 4, 0, 0, 2, 1]\n"
          ]
        }
      ],
      "source": [
        "arr = [1,2,0,0,4,0]\n",
        "reversed_arr = arr[::-1]\n",
        "print(\"Original array:\",arr)\n",
        "print(\"Reversed array:\",reversed_arr)"
      ]
    },
    {
      "cell_type": "markdown",
      "metadata": {
        "id": "wgSZwWWN_Sg5"
      },
      "source": [
        "**8. Create a 2d array with 1 on border and 0 inside.**"
      ]
    },
    {
      "cell_type": "code",
      "execution_count": 42,
      "metadata": {
        "colab": {
          "base_uri": "https://localhost:8080/"
        },
        "id": "tDA-aat3_Wb0",
        "outputId": "d2fd7300-3148-46b2-cf0c-2ac53c7073c4"
      },
      "outputs": [
        {
          "output_type": "stream",
          "name": "stdout",
          "text": [
            "2d array with 1 on border and 0 inside:\n",
            " [[1 1 1 1 1]\n",
            " [1 0 0 0 1]\n",
            " [1 0 0 0 1]\n",
            " [1 0 0 0 1]\n",
            " [1 1 1 1 1]]\n"
          ]
        }
      ],
      "source": [
        "arr = np.ones((5,5), dtype=int)\n",
        "arr[1:-1,1:-1] = 0\n",
        "print(\"2d array with 1 on border and 0 inside:\\n\",arr)"
      ]
    },
    {
      "cell_type": "markdown",
      "metadata": {
        "id": "cJWAru5E_ZO9"
      },
      "source": [
        "**9. Create a 8X8 matrix and fill it with a checkerboard pattern.**"
      ]
    },
    {
      "cell_type": "code",
      "execution_count": 43,
      "metadata": {
        "colab": {
          "base_uri": "https://localhost:8080/"
        },
        "id": "4KRCuSXi_foO",
        "outputId": "6354dec3-d41a-4ce0-8dc6-c2384b502da7"
      },
      "outputs": [
        {
          "output_type": "stream",
          "name": "stdout",
          "text": [
            "Checkerboard pattern:\n",
            " [[0 1 0 1 0 1 0 1]\n",
            " [1 0 1 0 1 0 1 0]\n",
            " [0 1 0 1 0 1 0 1]\n",
            " [1 0 1 0 1 0 1 0]\n",
            " [0 1 0 1 0 1 0 1]\n",
            " [1 0 1 0 1 0 1 0]\n",
            " [0 1 0 1 0 1 0 1]\n",
            " [1 0 1 0 1 0 1 0]]\n"
          ]
        }
      ],
      "source": [
        "arr = np.zeros((8,8), dtype=int)\n",
        "arr[1::2,::2] = 1\n",
        "arr[::2,1::2] = 1\n",
        "print(\"Checkerboard pattern:\\n\",arr)"
      ]
    },
    {
      "cell_type": "markdown",
      "metadata": {
        "id": "lajK6LnU_jMv"
      },
      "source": [
        "**Problem - 3: Array Operations:**\n",
        "\n",
        "For the following arrays:\n",
        "x = np.array([[1,2],[3,5]]) and y = np.array([[5,6],[7,8]]);\n",
        "v = np.array([9,10]) and w = np.array([11,12]);\n",
        "Complete all the task using numpy:\n",
        "1. Add the two array.\n",
        "2. Subtract the two array.\n",
        "3. Multiply the array with any integers of your choice.\n",
        "4. Find the square of each element of the array.\n",
        "5. Find the dot product between: v(and)w ; x(and)v ; x(and)y.\n",
        "6. Concatenate x(and)y along row and Concatenate v(and)w along column.\n",
        "{Hint:try np.concatenate() or np.vstack() functions.\n",
        "7. Concatenate x(and)v; if you get an error, observe and explain why did you get the error?"
      ]
    },
    {
      "cell_type": "code",
      "source": [
        "import numpy as np\n",
        "\n",
        "# Given arrays\n",
        "x = np.array([[1, 2], [3, 5]])\n",
        "y = np.array([[5, 6], [7, 8]])\n",
        "v = np.array([9, 10])\n",
        "w = np.array([11, 12])\n",
        "\n",
        "# 1. Add the two arrays\n",
        "add_xy = x + y\n",
        "print(\"Addition of x and y:\\n\", add_xy)\n",
        "\n",
        "# 2. Subtract the two arrays\n",
        "sub_xy = x - y\n",
        "print(\"\\nSubtraction of x and y:\\n\", sub_xy)\n",
        "\n",
        "# 3. Multiply the array x with any integer (e.g., 3)\n",
        "mult_x = x * 3\n",
        "print(\"\\nMultiplication of x with 3:\\n\", mult_x)\n",
        "\n",
        "# 4. Find the square of each element of x\n",
        "square_x = x ** 2\n",
        "print(\"\\nSquare of each element of x:\\n\", square_x)\n",
        "\n",
        "# 5. Dot product calculations\n",
        "dot_vw = np.dot(v, w)\n",
        "dot_xv = np.dot(x, v)\n",
        "dot_xy = np.dot(x, y)\n",
        "\n",
        "print(\"\\nDot product of v and w:\", dot_vw)\n",
        "print(\"\\nDot product of x and v:\\n\", dot_xv)\n",
        "print(\"\\nDot product of x and y:\\n\", dot_xy)\n",
        "\n",
        "# 6. Concatenation\n",
        "concat_xy_row = np.concatenate((x, y), axis=0)  # Along rows\n",
        "concat_vw_col = np.vstack((v, w))  # Along columns\n",
        "\n",
        "print(\"\\nConcatenation of x and y along rows:\\n\", concat_xy_row)\n",
        "print(\"\\nConcatenation of v and w along columns:\\n\", concat_vw_col)\n",
        "\n",
        "# 7. Concatenate x and v\n",
        "try:\n",
        "    concat_xv = np.concatenate((x, v), axis=0)  # Attempting to concatenate x and v\n",
        "    print(\"\\nConcatenation of x and v:\\n\", concat_xv)\n",
        "except ValueError as e:\n",
        "    print(\"\\nError while concatenating x and v:\", e)\n",
        "    print(\"Reason: x has shape (2,2) and v has shape (2,). Their dimensions are incompatible for direct concatenation.\")\n"
      ],
      "metadata": {
        "colab": {
          "base_uri": "https://localhost:8080/"
        },
        "id": "VavlxbxkbSTQ",
        "outputId": "fc21b237-5b7d-4fd7-ceaa-b5d6d52f7fc2"
      },
      "execution_count": 44,
      "outputs": [
        {
          "output_type": "stream",
          "name": "stdout",
          "text": [
            "Addition of x and y:\n",
            " [[ 6  8]\n",
            " [10 13]]\n",
            "\n",
            "Subtraction of x and y:\n",
            " [[-4 -4]\n",
            " [-4 -3]]\n",
            "\n",
            "Multiplication of x with 3:\n",
            " [[ 3  6]\n",
            " [ 9 15]]\n",
            "\n",
            "Square of each element of x:\n",
            " [[ 1  4]\n",
            " [ 9 25]]\n",
            "\n",
            "Dot product of v and w: 219\n",
            "\n",
            "Dot product of x and v:\n",
            " [29 77]\n",
            "\n",
            "Dot product of x and y:\n",
            " [[19 22]\n",
            " [50 58]]\n",
            "\n",
            "Concatenation of x and y along rows:\n",
            " [[1 2]\n",
            " [3 5]\n",
            " [5 6]\n",
            " [7 8]]\n",
            "\n",
            "Concatenation of v and w along columns:\n",
            " [[ 9 10]\n",
            " [11 12]]\n",
            "\n",
            "Error while concatenating x and v: all the input arrays must have same number of dimensions, but the array at index 0 has 2 dimension(s) and the array at index 1 has 1 dimension(s)\n",
            "Reason: x has shape (2,2) and v has shape (2,). Their dimensions are incompatible for direct concatenation.\n"
          ]
        }
      ]
    },
    {
      "cell_type": "markdown",
      "metadata": {
        "id": "VGT0FVUtBQH5"
      },
      "source": [
        "**Problem 4 : Matrix Operations :**\n",
        "- For the following arrays:\n",
        "\n",
        "  A = np.array([[3,4],[7,8]]) and B = np.array([[5,3],[2,1]]);\n",
        "\n",
        "  Prove following with Numpy:\n",
        "  1. Prove A.A−1 = I.\n",
        "  2. Prove AB ̸= BA.\n",
        "  3. Prove(AB)T =BTAT."
      ]
    },
    {
      "cell_type": "code",
      "execution_count": 47,
      "metadata": {
        "id": "yogIF9RpBYa4"
      },
      "outputs": [],
      "source": [
        "A = np.array([[3,4],[7,8]])\n",
        "B = np.array([[5,3],[2,1]])"
      ]
    },
    {
      "cell_type": "code",
      "execution_count": 48,
      "metadata": {
        "colab": {
          "base_uri": "https://localhost:8080/"
        },
        "id": "1FQS5HmDBgC_",
        "outputId": "60f9532f-f20a-4f03-c44f-eb71cf511c66"
      },
      "outputs": [
        {
          "output_type": "stream",
          "name": "stdout",
          "text": [
            "1. A.A−1:\n",
            "[[1. 0.]\n",
            " [0. 1.]]\n",
            "\n",
            "\n",
            "2. AB != BA\n",
            "\n",
            "\n",
            "3. (AB)T = BT.AT\n"
          ]
        }
      ],
      "source": [
        "from numpy import linalg\n",
        "\n",
        "inverse_A = np.linalg.inv(A)\n",
        "result_1 = np.dot(A, inverse_A)\n",
        "print(f\"1. A.A−1:\\n{np.round(result_1)}\")\n",
        "\n",
        "dot_product_AB = np.dot(A, B)\n",
        "dot_product_BA = np.dot(B, A)\n",
        "\n",
        "check = np.array_equal(dot_product_AB, dot_product_BA)\n",
        "print(\"\\n\")\n",
        "if check == True:\n",
        "  print(\"2. AB = BA\")\n",
        "else:\n",
        "  print(\"2. AB != BA\")\n",
        "\n",
        "transpose_A = np.transpose(A)\n",
        "transpose_B = np.transpose(B)\n",
        "\n",
        "product_BTAT = np.dot(transpose_B, transpose_A)\n",
        "transpose_AB = np.transpose(dot_product_AB)\n",
        "\n",
        "check1 = np.array_equal(transpose_AB, product_BTAT)\n",
        "print(\"\\n\")\n",
        "if check1 == True:\n",
        "  print(\"3. (AB)T = BT.AT\")\n",
        "else:\n",
        "  print(\"3. (AB)T != BT.AT\")"
      ]
    },
    {
      "cell_type": "markdown",
      "metadata": {
        "id": "nD0oBXvVBkBF"
      },
      "source": [
        "**Solve the following system of Linear equation using Inverse Methods.**\n",
        "\n",
        "  2x − 3y + z = −1\n",
        "\n",
        "  x − y + 2z = −3\n",
        "\n",
        "  3x + y − z = 9\n",
        "\n",
        "  {Hint: First use Numpy array to represent the equation in Matrix form. Then Solve for: AX = B}"
      ]
    },
    {
      "cell_type": "code",
      "execution_count": null,
      "metadata": {
        "id": "AgCPWM2lB13Z"
      },
      "outputs": [],
      "source": [
        "A = np.array([[2, -3, 1],\n",
        "              [1, -1, 2],\n",
        "              [3, 1, -1]])\n",
        "\n",
        "B = np.array([-1, -3, 9])"
      ]
    },
    {
      "cell_type": "code",
      "execution_count": null,
      "metadata": {
        "colab": {
          "base_uri": "https://localhost:8080/"
        },
        "id": "P8bQOUmxB5sa",
        "outputId": "0213447d-28df-4809-aea9-009c79d7b363"
      },
      "outputs": [
        {
          "name": "stdout",
          "output_type": "stream",
          "text": [
            "Coefficient matrix A:\n",
            "[[ 2 -3  1]\n",
            " [ 1 -1  2]\n",
            " [ 3  1 -1]]\n",
            "\n",
            "Constant matrix B:\n",
            "[-1 -3  9]\n"
          ]
        }
      ],
      "source": [
        "print(\"Coefficient matrix A:\")\n",
        "print(A)\n",
        "print(\"\\nConstant matrix B:\")\n",
        "print(B)"
      ]
    },
    {
      "cell_type": "code",
      "execution_count": null,
      "metadata": {
        "id": "FkqCxLs3B8_W"
      },
      "outputs": [],
      "source": [
        "det_A = np.linalg.det(A)\n",
        "\n",
        "cofactor_matrix = np.zeros_like(A, dtype=float)\n",
        "\n",
        "for i in range(A.shape[0]):\n",
        "    for j in range(A.shape[1]):\n",
        "        minor_matrix = np.delete(np.delete(A, i, axis=0), j, axis=1)\n",
        "        cofactor_matrix[i, j] = ((-1) ** (i + j)) * np.linalg.det(minor_matrix)\n",
        "\n",
        "adjugate_matrix = cofactor_matrix.T\n",
        "\n",
        "# inverse of A\n",
        "A_inv = adjugate_matrix / det_A"
      ]
    },
    {
      "cell_type": "code",
      "execution_count": null,
      "metadata": {
        "colab": {
          "base_uri": "https://localhost:8080/"
        },
        "id": "v9Ji9XEfB_sc",
        "outputId": "f05b5214-be88-495b-bf9a-8d7dea1fe3db"
      },
      "outputs": [
        {
          "name": "stdout",
          "output_type": "stream",
          "text": [
            "Solution using Inverse Methods:\n",
            "[ 2.  1. -2.]\n"
          ]
        }
      ],
      "source": [
        "X = np.dot(A_inv, B)\n",
        "print(\"Solution using Inverse Methods:\")\n",
        "print(X)"
      ]
    },
    {
      "cell_type": "markdown",
      "metadata": {
        "id": "6I2uZ30bCDwC"
      },
      "source": [
        "**Solve the above equation using np.linalg.inv function. {Explore more about ”linalg” func- tion of Numpy}**"
      ]
    },
    {
      "cell_type": "code",
      "execution_count": null,
      "metadata": {
        "colab": {
          "base_uri": "https://localhost:8080/"
        },
        "id": "mz7WLSdzCXf1",
        "outputId": "9bbaa3a2-2562-413b-88e7-f7f0e710a6f3"
      },
      "outputs": [
        {
          "name": "stdout",
          "output_type": "stream",
          "text": [
            "Solution using np.linalg.inv function:\n",
            "[ 2.  1. -2.]\n"
          ]
        }
      ],
      "source": [
        "A_inv = np.linalg.inv(A)\n",
        "X = np.dot(A_inv, B)\n",
        "print(\"Solution using np.linalg.inv function:\")\n",
        "print(X)"
      ]
    },
    {
      "cell_type": "markdown",
      "metadata": {
        "id": "l0iWbiFpCgXS"
      },
      "source": [
        "**Experiment: How Fast is Numpy?**\n",
        "\n",
        "**1. Element-wise Addition:**\n",
        "\n",
        "  Using Python Lists, perform element-wise addition of two lists of size 1, 000, 000. Measure and Print the time taken for this operation.\n",
        "  Using Numpy Arrays, Repeat the calculation and measure and print the time taken for this operation."
      ]
    },
    {
      "cell_type": "code",
      "execution_count": null,
      "metadata": {
        "colab": {
          "base_uri": "https://localhost:8080/"
        },
        "id": "hgu6a550Clw7",
        "outputId": "65219723-e079-48e8-dd59-dfad66ebb0b4"
      },
      "outputs": [
        {
          "name": "stdout",
          "output_type": "stream",
          "text": [
            "Time taken for element-wise addition: 0.157271146774292 seconds\n",
            "Time taken for element-wise addition using Numpy arrays: 0.004817485809326172 seconds\n"
          ]
        }
      ],
      "source": [
        "import time\n",
        "\n",
        "lst1 = [i for i in range(1,1000001)]\n",
        "lst2 = [i for i in range(1000001,2000001)]\n",
        "\n",
        "start_time = time.time()\n",
        "result_time = [a+b for a,b in zip(lst1, lst2)]\n",
        "end_time = time.time()\n",
        "add_time = end_time - start_time\n",
        "print(f\"Time taken for element-wise addition: {add_time} seconds\")\n",
        "\n",
        "arr1 = np.array(lst1)\n",
        "arr2 = np.array(lst2)\n",
        "\n",
        "start_time = time.time()\n",
        "result_array = arr1 + arr2\n",
        "end_time = time.time()\n",
        "array_time = end_time - start_time\n",
        "print(f\"Time taken for element-wise addition using Numpy arrays: {array_time} seconds\")"
      ]
    },
    {
      "cell_type": "markdown",
      "metadata": {
        "id": "RC0EA6M9CpG6"
      },
      "source": [
        "**2. Element-wise Multiplication**\n",
        "\n",
        "- Using Python Lists, perform element-wise multiplication of two lists of size 1,000,000. Measure and Print the time taken for this operation.\n",
        "- Using Numpy Arrays, Repeat the calculation and measure and print the time taken for this operation."
      ]
    },
    {
      "cell_type": "code",
      "execution_count": null,
      "metadata": {
        "colab": {
          "base_uri": "https://localhost:8080/"
        },
        "id": "0C3nabpoCyhx",
        "outputId": "72816e80-ce63-4d7c-c2e1-1405a1ff25db"
      },
      "outputs": [
        {
          "name": "stdout",
          "output_type": "stream",
          "text": [
            "Time taken for element-wise multiplication: 0.5114076137542725 seconds\n",
            "Time taken for element-wise multiplication using Numpy arrays: 0.00566554069519043 seconds\n"
          ]
        }
      ],
      "source": [
        "start_time = time.time()\n",
        "result_lst = [a*b for a,b in zip(lst1, lst2)]\n",
        "end_time = time.time()\n",
        "multiplication_time = end_time - start_time\n",
        "print(f\"Time taken for element-wise multiplication: {multiplication_time} seconds\")\n",
        "\n",
        "array1 = np.array(lst1)\n",
        "array2 = np.array(lst2)\n",
        "\n",
        "start_time = time.time()\n",
        "result_array = array1 * array2\n",
        "end_time = time.time()\n",
        "array_time = end_time - start_time\n",
        "print(f\"Time taken for element-wise multiplication using Numpy arrays: {array_time} seconds\")"
      ]
    },
    {
      "cell_type": "markdown",
      "metadata": {
        "id": "vxNZvm0GC1ma"
      },
      "source": [
        "**3. Dot Product**\n",
        "\n",
        "- Using Python Lists, compute the dot product of two lists of size 1, 000, 000. Measure and Print the time taken for this operation.\n",
        "- Using Numpy Arrays, Repeat the calculation and measure and print the time taken for this operation."
      ]
    },
    {
      "cell_type": "code",
      "execution_count": null,
      "metadata": {
        "colab": {
          "base_uri": "https://localhost:8080/"
        },
        "id": "mdAgNREgC90f",
        "outputId": "cefeaa43-01df-40a0-d381-efc44696a0cd"
      },
      "outputs": [
        {
          "name": "stdout",
          "output_type": "stream",
          "text": [
            "Time taken to compute the dot product: 0.09782075881958008 seconds\n",
            "Time taken to compute the dot product using Numpy arrays: 0.002732992172241211 seconds\n"
          ]
        }
      ],
      "source": [
        "start_time = time.time()\n",
        "result_time = [a*b for a,b in zip(lst1, lst2)]\n",
        "end_time = time.time()\n",
        "dot_product_time = end_time - start_time\n",
        "print(f\"Time taken to compute the dot product: {dot_product_time} seconds\")\n",
        "\n",
        "array1 = np.array(lst1)\n",
        "array2 = np.array(lst2)\n",
        "\n",
        "start_time = time.time()\n",
        "dot_product_array = np.dot(array1, array2)\n",
        "end_time = time.time()\n",
        "array_time = end_time - start_time\n",
        "print(f\"Time taken to compute the dot product using Numpy arrays: {array_time} seconds\")"
      ]
    },
    {
      "cell_type": "markdown",
      "metadata": {
        "id": "zBF0mNlDDA_B"
      },
      "source": [
        "**4. Matrix Multiplication**\n",
        "\n",
        "- Using Python lists, perform matrix multiplication of two matrices of size 1000x1000. Measure and print the time taken for this operation.\n",
        "- Using NumPy arrays, perform matrix multiplication of two matrices of size 1000x1000. Measure and print the time taken for this operation."
      ]
    },
    {
      "cell_type": "code",
      "execution_count": null,
      "metadata": {
        "colab": {
          "background_save": true
        },
        "id": "4K7qIPpIDeCI",
        "outputId": "cef54ab8-177b-46eb-a679-2fb3f0e74418"
      },
      "outputs": [
        {
          "name": "stdout",
          "output_type": "stream",
          "text": [
            "Time taken for matrix multiplication: 184.4673342704773 seconds\n",
            "Time taken for matrix multiplication using Numpy arrays: 2.215079 seconds\n"
          ]
        }
      ],
      "source": [
        "N=1000\n",
        "\n",
        "matrix1 = [[i + j for j in range(N)] for i in range(N)]\n",
        "matrix2 = [[i - j for j in range(N)] for i in range(N)]\n",
        "\n",
        "def mat_mul(A,B):\n",
        "  result = [[0] *N for _ in range(N)]\n",
        "  for i in range(N):\n",
        "    for j in range(N):\n",
        "      for k in range(N):\n",
        "        result[i][j] += A[i][k] * B[k][j]\n",
        "  return result\n",
        "\n",
        "start_time = time.time()\n",
        "result = mat_mul(matrix1, matrix2)\n",
        "end_time = time.time()\n",
        "mat_mul_time = end_time - start_time\n",
        "print(f\"Time taken for matrix multiplication: {mat_mul_time} seconds\")\n",
        "\n",
        "array1 = np.array(matrix1)\n",
        "array2 = np.array(matrix2)\n",
        "\n",
        "start_time = time.time()\n",
        "result_numpy = np.dot(array1, array2)\n",
        "end_time = time.time()\n",
        "numpy_matmul_time = end_time - start_time\n",
        "print(f\"Time taken for matrix multiplication using Numpy arrays: {numpy_matmul_time:.6f} seconds\")"
      ]
    }
  ],
  "metadata": {
    "colab": {
      "provenance": [],
      "authorship_tag": "ABX9TyNeap3Mrk02zUanmfuzMOp8",
      "include_colab_link": true
    },
    "kernelspec": {
      "display_name": "Python 3",
      "name": "python3"
    },
    "language_info": {
      "name": "python"
    }
  },
  "nbformat": 4,
  "nbformat_minor": 0
}